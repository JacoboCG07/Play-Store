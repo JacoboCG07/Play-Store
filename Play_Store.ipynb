{
  "nbformat": 4,
  "nbformat_minor": 0,
  "metadata": {
    "colab": {
      "provenance": [],
      "collapsed_sections": [
        "KVglaHQ-1u3K",
        "GtzM-yeiYHV5",
        "gLh3aG4OcE3b",
        "LUU_0Vfa1HHy",
        "it6iJFvX7z37",
        "EZN6ZHvpg-rN",
        "9ki1VQdhxF_M",
        "g3AhMbsnySBG",
        "xka7g0wPUP2Q",
        "e-55sfj6UohV",
        "kC4GkYop9zhT",
        "FXR3IsrM2wPi",
        "o7Zu1DdgBwHZ",
        "KADTclu9X7LC"
      ]
    },
    "kernelspec": {
      "name": "python3",
      "display_name": "Python 3"
    },
    "language_info": {
      "name": "python"
    },
    "accelerator": "GPU",
    "gpuClass": "standard"
  },
  "cells": [
    {
      "cell_type": "markdown",
      "source": [
        "# Instalamos las librerias a usar"
      ],
      "metadata": {
        "id": "KVglaHQ-1u3K"
      }
    },
    {
      "cell_type": "code",
      "source": [
        "!pip install feature_engine"
      ],
      "metadata": {
        "colab": {
          "base_uri": "https://localhost:8080/"
        },
        "id": "42EcoYe811Nk",
        "outputId": "4c4e6c40-baee-41e8-9220-f62a9426b9eb"
      },
      "execution_count": 370,
      "outputs": [
        {
          "output_type": "stream",
          "name": "stdout",
          "text": [
            "Requirement already satisfied: feature_engine in /usr/local/lib/python3.10/dist-packages (1.6.1)\n",
            "Requirement already satisfied: numpy>=1.18.2 in /usr/local/lib/python3.10/dist-packages (from feature_engine) (1.22.4)\n",
            "Requirement already satisfied: pandas>=1.0.3 in /usr/local/lib/python3.10/dist-packages (from feature_engine) (1.5.3)\n",
            "Requirement already satisfied: scikit-learn>=1.0.0 in /usr/local/lib/python3.10/dist-packages (from feature_engine) (1.2.2)\n",
            "Requirement already satisfied: scipy>=1.4.1 in /usr/local/lib/python3.10/dist-packages (from feature_engine) (1.10.1)\n",
            "Requirement already satisfied: statsmodels>=0.11.1 in /usr/local/lib/python3.10/dist-packages (from feature_engine) (0.13.5)\n",
            "Requirement already satisfied: python-dateutil>=2.8.1 in /usr/local/lib/python3.10/dist-packages (from pandas>=1.0.3->feature_engine) (2.8.2)\n",
            "Requirement already satisfied: pytz>=2020.1 in /usr/local/lib/python3.10/dist-packages (from pandas>=1.0.3->feature_engine) (2022.7.1)\n",
            "Requirement already satisfied: joblib>=1.1.1 in /usr/local/lib/python3.10/dist-packages (from scikit-learn>=1.0.0->feature_engine) (1.3.1)\n",
            "Requirement already satisfied: threadpoolctl>=2.0.0 in /usr/local/lib/python3.10/dist-packages (from scikit-learn>=1.0.0->feature_engine) (3.2.0)\n",
            "Requirement already satisfied: patsy>=0.5.2 in /usr/local/lib/python3.10/dist-packages (from statsmodels>=0.11.1->feature_engine) (0.5.3)\n",
            "Requirement already satisfied: packaging>=21.3 in /usr/local/lib/python3.10/dist-packages (from statsmodels>=0.11.1->feature_engine) (23.1)\n",
            "Requirement already satisfied: six in /usr/local/lib/python3.10/dist-packages (from patsy>=0.5.2->statsmodels>=0.11.1->feature_engine) (1.16.0)\n"
          ]
        }
      ]
    },
    {
      "cell_type": "markdown",
      "source": [
        "# Cargamos y vemos el Dataset"
      ],
      "metadata": {
        "id": "GtzM-yeiYHV5"
      }
    },
    {
      "cell_type": "code",
      "execution_count": 371,
      "metadata": {
        "id": "5TQSvvxQWpen",
        "colab": {
          "base_uri": "https://localhost:8080/"
        },
        "outputId": "67dbe7b8-044a-4a6b-b51d-ed1e01d066db"
      },
      "outputs": [
        {
          "output_type": "stream",
          "name": "stdout",
          "text": [
            "Drive already mounted at /content/drive; to attempt to forcibly remount, call drive.mount(\"/content/drive\", force_remount=True).\n"
          ]
        }
      ],
      "source": [
        "from google.colab import drive\n",
        "\n",
        "drive.mount('/content/drive')"
      ]
    },
    {
      "cell_type": "code",
      "source": [
        "import os;\n",
        "BASE = \"/content/drive/MyDrive\"\n",
        "fichero = \"IA/Datasets/googleplaystore.csv\"\n"
      ],
      "metadata": {
        "id": "RBl7t4YmX-bD"
      },
      "execution_count": 372,
      "outputs": []
    },
    {
      "cell_type": "code",
      "source": [
        "import pandas as pd\n",
        "\n",
        "def load_play_store_data(BASE,fichero):\n",
        "    csv_path = os.path.join(BASE, fichero)\n",
        "    return pd.read_csv(csv_path)"
      ],
      "metadata": {
        "id": "I8HZA8E3c4Ru"
      },
      "execution_count": 373,
      "outputs": []
    },
    {
      "cell_type": "code",
      "source": [
        "play_store = load_play_store_data(BASE,fichero);\n",
        "play_store.head() #Muestra la cabecera"
      ],
      "metadata": {
        "id": "piayvzUwc45j",
        "colab": {
          "base_uri": "https://localhost:8080/",
          "height": 0
        },
        "outputId": "f1660535-df26-45f6-94aa-7a3074995938"
      },
      "execution_count": 374,
      "outputs": [
        {
          "output_type": "execute_result",
          "data": {
            "text/plain": [
              "                                                 App        Category  Rating  \\\n",
              "0     Photo Editor & Candy Camera & Grid & ScrapBook  ART_AND_DESIGN     4.1   \n",
              "1                                Coloring book moana  ART_AND_DESIGN     3.9   \n",
              "2  U Launcher Lite – FREE Live Cool Themes, Hide ...  ART_AND_DESIGN     4.7   \n",
              "3                              Sketch - Draw & Paint  ART_AND_DESIGN     4.5   \n",
              "4              Pixel Draw - Number Art Coloring Book  ART_AND_DESIGN     4.3   \n",
              "\n",
              "  Reviews  Size     Installs  Type Price Content Rating  \\\n",
              "0     159   19M      10,000+  Free     0       Everyone   \n",
              "1     967   14M     500,000+  Free     0       Everyone   \n",
              "2   87510  8.7M   5,000,000+  Free     0       Everyone   \n",
              "3  215644   25M  50,000,000+  Free     0           Teen   \n",
              "4     967  2.8M     100,000+  Free     0       Everyone   \n",
              "\n",
              "                      Genres      Last Updated         Current Ver  \\\n",
              "0               Art & Design   January 7, 2018               1.0.0   \n",
              "1  Art & Design;Pretend Play  January 15, 2018               2.0.0   \n",
              "2               Art & Design    August 1, 2018               1.2.4   \n",
              "3               Art & Design      June 8, 2018  Varies with device   \n",
              "4    Art & Design;Creativity     June 20, 2018                 1.1   \n",
              "\n",
              "    Android Ver  \n",
              "0  4.0.3 and up  \n",
              "1  4.0.3 and up  \n",
              "2  4.0.3 and up  \n",
              "3    4.2 and up  \n",
              "4    4.4 and up  "
            ],
            "text/html": [
              "\n",
              "\n",
              "  <div id=\"df-dbc0fbc1-c286-4146-962c-5fcc416d9d28\">\n",
              "    <div class=\"colab-df-container\">\n",
              "      <div>\n",
              "<style scoped>\n",
              "    .dataframe tbody tr th:only-of-type {\n",
              "        vertical-align: middle;\n",
              "    }\n",
              "\n",
              "    .dataframe tbody tr th {\n",
              "        vertical-align: top;\n",
              "    }\n",
              "\n",
              "    .dataframe thead th {\n",
              "        text-align: right;\n",
              "    }\n",
              "</style>\n",
              "<table border=\"1\" class=\"dataframe\">\n",
              "  <thead>\n",
              "    <tr style=\"text-align: right;\">\n",
              "      <th></th>\n",
              "      <th>App</th>\n",
              "      <th>Category</th>\n",
              "      <th>Rating</th>\n",
              "      <th>Reviews</th>\n",
              "      <th>Size</th>\n",
              "      <th>Installs</th>\n",
              "      <th>Type</th>\n",
              "      <th>Price</th>\n",
              "      <th>Content Rating</th>\n",
              "      <th>Genres</th>\n",
              "      <th>Last Updated</th>\n",
              "      <th>Current Ver</th>\n",
              "      <th>Android Ver</th>\n",
              "    </tr>\n",
              "  </thead>\n",
              "  <tbody>\n",
              "    <tr>\n",
              "      <th>0</th>\n",
              "      <td>Photo Editor &amp; Candy Camera &amp; Grid &amp; ScrapBook</td>\n",
              "      <td>ART_AND_DESIGN</td>\n",
              "      <td>4.1</td>\n",
              "      <td>159</td>\n",
              "      <td>19M</td>\n",
              "      <td>10,000+</td>\n",
              "      <td>Free</td>\n",
              "      <td>0</td>\n",
              "      <td>Everyone</td>\n",
              "      <td>Art &amp; Design</td>\n",
              "      <td>January 7, 2018</td>\n",
              "      <td>1.0.0</td>\n",
              "      <td>4.0.3 and up</td>\n",
              "    </tr>\n",
              "    <tr>\n",
              "      <th>1</th>\n",
              "      <td>Coloring book moana</td>\n",
              "      <td>ART_AND_DESIGN</td>\n",
              "      <td>3.9</td>\n",
              "      <td>967</td>\n",
              "      <td>14M</td>\n",
              "      <td>500,000+</td>\n",
              "      <td>Free</td>\n",
              "      <td>0</td>\n",
              "      <td>Everyone</td>\n",
              "      <td>Art &amp; Design;Pretend Play</td>\n",
              "      <td>January 15, 2018</td>\n",
              "      <td>2.0.0</td>\n",
              "      <td>4.0.3 and up</td>\n",
              "    </tr>\n",
              "    <tr>\n",
              "      <th>2</th>\n",
              "      <td>U Launcher Lite – FREE Live Cool Themes, Hide ...</td>\n",
              "      <td>ART_AND_DESIGN</td>\n",
              "      <td>4.7</td>\n",
              "      <td>87510</td>\n",
              "      <td>8.7M</td>\n",
              "      <td>5,000,000+</td>\n",
              "      <td>Free</td>\n",
              "      <td>0</td>\n",
              "      <td>Everyone</td>\n",
              "      <td>Art &amp; Design</td>\n",
              "      <td>August 1, 2018</td>\n",
              "      <td>1.2.4</td>\n",
              "      <td>4.0.3 and up</td>\n",
              "    </tr>\n",
              "    <tr>\n",
              "      <th>3</th>\n",
              "      <td>Sketch - Draw &amp; Paint</td>\n",
              "      <td>ART_AND_DESIGN</td>\n",
              "      <td>4.5</td>\n",
              "      <td>215644</td>\n",
              "      <td>25M</td>\n",
              "      <td>50,000,000+</td>\n",
              "      <td>Free</td>\n",
              "      <td>0</td>\n",
              "      <td>Teen</td>\n",
              "      <td>Art &amp; Design</td>\n",
              "      <td>June 8, 2018</td>\n",
              "      <td>Varies with device</td>\n",
              "      <td>4.2 and up</td>\n",
              "    </tr>\n",
              "    <tr>\n",
              "      <th>4</th>\n",
              "      <td>Pixel Draw - Number Art Coloring Book</td>\n",
              "      <td>ART_AND_DESIGN</td>\n",
              "      <td>4.3</td>\n",
              "      <td>967</td>\n",
              "      <td>2.8M</td>\n",
              "      <td>100,000+</td>\n",
              "      <td>Free</td>\n",
              "      <td>0</td>\n",
              "      <td>Everyone</td>\n",
              "      <td>Art &amp; Design;Creativity</td>\n",
              "      <td>June 20, 2018</td>\n",
              "      <td>1.1</td>\n",
              "      <td>4.4 and up</td>\n",
              "    </tr>\n",
              "  </tbody>\n",
              "</table>\n",
              "</div>\n",
              "      <button class=\"colab-df-convert\" onclick=\"convertToInteractive('df-dbc0fbc1-c286-4146-962c-5fcc416d9d28')\"\n",
              "              title=\"Convert this dataframe to an interactive table.\"\n",
              "              style=\"display:none;\">\n",
              "\n",
              "  <svg xmlns=\"http://www.w3.org/2000/svg\" height=\"24px\"viewBox=\"0 0 24 24\"\n",
              "       width=\"24px\">\n",
              "    <path d=\"M0 0h24v24H0V0z\" fill=\"none\"/>\n",
              "    <path d=\"M18.56 5.44l.94 2.06.94-2.06 2.06-.94-2.06-.94-.94-2.06-.94 2.06-2.06.94zm-11 1L8.5 8.5l.94-2.06 2.06-.94-2.06-.94L8.5 2.5l-.94 2.06-2.06.94zm10 10l.94 2.06.94-2.06 2.06-.94-2.06-.94-.94-2.06-.94 2.06-2.06.94z\"/><path d=\"M17.41 7.96l-1.37-1.37c-.4-.4-.92-.59-1.43-.59-.52 0-1.04.2-1.43.59L10.3 9.45l-7.72 7.72c-.78.78-.78 2.05 0 2.83L4 21.41c.39.39.9.59 1.41.59.51 0 1.02-.2 1.41-.59l7.78-7.78 2.81-2.81c.8-.78.8-2.07 0-2.86zM5.41 20L4 18.59l7.72-7.72 1.47 1.35L5.41 20z\"/>\n",
              "  </svg>\n",
              "      </button>\n",
              "\n",
              "\n",
              "\n",
              "    <div id=\"df-5aacb5f4-d9ca-444c-b965-68a970a047cd\">\n",
              "      <button class=\"colab-df-quickchart\" onclick=\"quickchart('df-5aacb5f4-d9ca-444c-b965-68a970a047cd')\"\n",
              "              title=\"Suggest charts.\"\n",
              "              style=\"display:none;\">\n",
              "\n",
              "<svg xmlns=\"http://www.w3.org/2000/svg\" height=\"24px\"viewBox=\"0 0 24 24\"\n",
              "     width=\"24px\">\n",
              "    <g>\n",
              "        <path d=\"M19 3H5c-1.1 0-2 .9-2 2v14c0 1.1.9 2 2 2h14c1.1 0 2-.9 2-2V5c0-1.1-.9-2-2-2zM9 17H7v-7h2v7zm4 0h-2V7h2v10zm4 0h-2v-4h2v4z\"/>\n",
              "    </g>\n",
              "</svg>\n",
              "      </button>\n",
              "    </div>\n",
              "\n",
              "<style>\n",
              "  .colab-df-quickchart {\n",
              "    background-color: #E8F0FE;\n",
              "    border: none;\n",
              "    border-radius: 50%;\n",
              "    cursor: pointer;\n",
              "    display: none;\n",
              "    fill: #1967D2;\n",
              "    height: 32px;\n",
              "    padding: 0 0 0 0;\n",
              "    width: 32px;\n",
              "  }\n",
              "\n",
              "  .colab-df-quickchart:hover {\n",
              "    background-color: #E2EBFA;\n",
              "    box-shadow: 0px 1px 2px rgba(60, 64, 67, 0.3), 0px 1px 3px 1px rgba(60, 64, 67, 0.15);\n",
              "    fill: #174EA6;\n",
              "  }\n",
              "\n",
              "  [theme=dark] .colab-df-quickchart {\n",
              "    background-color: #3B4455;\n",
              "    fill: #D2E3FC;\n",
              "  }\n",
              "\n",
              "  [theme=dark] .colab-df-quickchart:hover {\n",
              "    background-color: #434B5C;\n",
              "    box-shadow: 0px 1px 3px 1px rgba(0, 0, 0, 0.15);\n",
              "    filter: drop-shadow(0px 1px 2px rgba(0, 0, 0, 0.3));\n",
              "    fill: #FFFFFF;\n",
              "  }\n",
              "</style>\n",
              "\n",
              "    <script>\n",
              "      async function quickchart(key) {\n",
              "        const containerElement = document.querySelector('#' + key);\n",
              "        const charts = await google.colab.kernel.invokeFunction(\n",
              "            'suggestCharts', [key], {});\n",
              "      }\n",
              "    </script>\n",
              "\n",
              "      <script>\n",
              "\n",
              "function displayQuickchartButton(domScope) {\n",
              "  let quickchartButtonEl =\n",
              "    domScope.querySelector('#df-5aacb5f4-d9ca-444c-b965-68a970a047cd button.colab-df-quickchart');\n",
              "  quickchartButtonEl.style.display =\n",
              "    google.colab.kernel.accessAllowed ? 'block' : 'none';\n",
              "}\n",
              "\n",
              "        displayQuickchartButton(document);\n",
              "      </script>\n",
              "      <style>\n",
              "    .colab-df-container {\n",
              "      display:flex;\n",
              "      flex-wrap:wrap;\n",
              "      gap: 12px;\n",
              "    }\n",
              "\n",
              "    .colab-df-convert {\n",
              "      background-color: #E8F0FE;\n",
              "      border: none;\n",
              "      border-radius: 50%;\n",
              "      cursor: pointer;\n",
              "      display: none;\n",
              "      fill: #1967D2;\n",
              "      height: 32px;\n",
              "      padding: 0 0 0 0;\n",
              "      width: 32px;\n",
              "    }\n",
              "\n",
              "    .colab-df-convert:hover {\n",
              "      background-color: #E2EBFA;\n",
              "      box-shadow: 0px 1px 2px rgba(60, 64, 67, 0.3), 0px 1px 3px 1px rgba(60, 64, 67, 0.15);\n",
              "      fill: #174EA6;\n",
              "    }\n",
              "\n",
              "    [theme=dark] .colab-df-convert {\n",
              "      background-color: #3B4455;\n",
              "      fill: #D2E3FC;\n",
              "    }\n",
              "\n",
              "    [theme=dark] .colab-df-convert:hover {\n",
              "      background-color: #434B5C;\n",
              "      box-shadow: 0px 1px 3px 1px rgba(0, 0, 0, 0.15);\n",
              "      filter: drop-shadow(0px 1px 2px rgba(0, 0, 0, 0.3));\n",
              "      fill: #FFFFFF;\n",
              "    }\n",
              "  </style>\n",
              "\n",
              "      <script>\n",
              "        const buttonEl =\n",
              "          document.querySelector('#df-dbc0fbc1-c286-4146-962c-5fcc416d9d28 button.colab-df-convert');\n",
              "        buttonEl.style.display =\n",
              "          google.colab.kernel.accessAllowed ? 'block' : 'none';\n",
              "\n",
              "        async function convertToInteractive(key) {\n",
              "          const element = document.querySelector('#df-dbc0fbc1-c286-4146-962c-5fcc416d9d28');\n",
              "          const dataTable =\n",
              "            await google.colab.kernel.invokeFunction('convertToInteractive',\n",
              "                                                     [key], {});\n",
              "          if (!dataTable) return;\n",
              "\n",
              "          const docLinkHtml = 'Like what you see? Visit the ' +\n",
              "            '<a target=\"_blank\" href=https://colab.research.google.com/notebooks/data_table.ipynb>data table notebook</a>'\n",
              "            + ' to learn more about interactive tables.';\n",
              "          element.innerHTML = '';\n",
              "          dataTable['output_type'] = 'display_data';\n",
              "          await google.colab.output.renderOutput(dataTable, element);\n",
              "          const docLink = document.createElement('div');\n",
              "          docLink.innerHTML = docLinkHtml;\n",
              "          element.appendChild(docLink);\n",
              "        }\n",
              "      </script>\n",
              "    </div>\n",
              "  </div>\n"
            ]
          },
          "metadata": {},
          "execution_count": 374
        }
      ]
    },
    {
      "cell_type": "code",
      "source": [
        "play_store.info()"
      ],
      "metadata": {
        "id": "2Zfo2hHec8Kz",
        "colab": {
          "base_uri": "https://localhost:8080/"
        },
        "outputId": "928f4d48-749f-4a92-9e21-8e32ef5cc71c"
      },
      "execution_count": 375,
      "outputs": [
        {
          "output_type": "stream",
          "name": "stdout",
          "text": [
            "<class 'pandas.core.frame.DataFrame'>\n",
            "RangeIndex: 10841 entries, 0 to 10840\n",
            "Data columns (total 13 columns):\n",
            " #   Column          Non-Null Count  Dtype  \n",
            "---  ------          --------------  -----  \n",
            " 0   App             10841 non-null  object \n",
            " 1   Category        10841 non-null  object \n",
            " 2   Rating          9367 non-null   float64\n",
            " 3   Reviews         10841 non-null  object \n",
            " 4   Size            10841 non-null  object \n",
            " 5   Installs        10841 non-null  object \n",
            " 6   Type            10840 non-null  object \n",
            " 7   Price           10841 non-null  object \n",
            " 8   Content Rating  10840 non-null  object \n",
            " 9   Genres          10841 non-null  object \n",
            " 10  Last Updated    10841 non-null  object \n",
            " 11  Current Ver     10833 non-null  object \n",
            " 12  Android Ver     10838 non-null  object \n",
            "dtypes: float64(1), object(12)\n",
            "memory usage: 1.1+ MB\n"
          ]
        }
      ]
    },
    {
      "cell_type": "markdown",
      "source": [
        "# Borramos los datos irrelevantes"
      ],
      "metadata": {
        "id": "gLh3aG4OcE3b"
      }
    },
    {
      "cell_type": "markdown",
      "source": [
        "#### Borramos estas columnas ya que no sirven para clasificar"
      ],
      "metadata": {
        "id": "pA4x4MY_0k9K"
      }
    },
    {
      "cell_type": "code",
      "source": [
        "play_store = play_store.drop(columns=[\"App\",\"Current Ver\",\"Android Ver\",\"Last Updated\"], axis=1)"
      ],
      "metadata": {
        "id": "Hdv8tI6n0j0i"
      },
      "execution_count": 376,
      "outputs": []
    },
    {
      "cell_type": "markdown",
      "source": [
        "#### Eliminamos las filas que tengan Rating nulo. Usaremos el método dropna que elimina todas las filas que tengan valores nulos en la columna especificada"
      ],
      "metadata": {
        "id": "F7Qxg5UDwLPJ"
      }
    },
    {
      "cell_type": "code",
      "source": [
        "play_store = play_store.dropna(subset=['Rating'])\n",
        "play_store.info()"
      ],
      "metadata": {
        "colab": {
          "base_uri": "https://localhost:8080/"
        },
        "id": "LXHYNn8owoIw",
        "outputId": "df5f03e8-7e08-41be-adad-10085b5d8eaf"
      },
      "execution_count": 377,
      "outputs": [
        {
          "output_type": "stream",
          "name": "stdout",
          "text": [
            "<class 'pandas.core.frame.DataFrame'>\n",
            "Int64Index: 9367 entries, 0 to 10840\n",
            "Data columns (total 9 columns):\n",
            " #   Column          Non-Null Count  Dtype  \n",
            "---  ------          --------------  -----  \n",
            " 0   Category        9367 non-null   object \n",
            " 1   Rating          9367 non-null   float64\n",
            " 2   Reviews         9367 non-null   object \n",
            " 3   Size            9367 non-null   object \n",
            " 4   Installs        9367 non-null   object \n",
            " 5   Type            9367 non-null   object \n",
            " 6   Price           9367 non-null   object \n",
            " 7   Content Rating  9366 non-null   object \n",
            " 8   Genres          9367 non-null   object \n",
            "dtypes: float64(1), object(8)\n",
            "memory usage: 731.8+ KB\n"
          ]
        }
      ]
    },
    {
      "cell_type": "markdown",
      "source": [
        "# Arreglamos la columna Rating para que se pueda clasificar"
      ],
      "metadata": {
        "id": "0hBpCpTMCLqc"
      }
    },
    {
      "cell_type": "code",
      "source": [
        "play_store.value_counts(\"Rating\")"
      ],
      "metadata": {
        "colab": {
          "base_uri": "https://localhost:8080/"
        },
        "id": "ELMPchTvFHl1",
        "outputId": "960bd6f6-2da6-4f56-9592-6b012577ae4e"
      },
      "execution_count": 378,
      "outputs": [
        {
          "output_type": "execute_result",
          "data": {
            "text/plain": [
              "Rating\n",
              "4.4     1109\n",
              "4.3     1076\n",
              "4.5     1038\n",
              "4.2      952\n",
              "4.6      823\n",
              "4.1      708\n",
              "4.0      568\n",
              "4.7      499\n",
              "3.9      386\n",
              "3.8      303\n",
              "5.0      274\n",
              "3.7      239\n",
              "4.8      234\n",
              "3.6      174\n",
              "3.5      163\n",
              "3.4      128\n",
              "3.3      102\n",
              "4.9       87\n",
              "3.0       83\n",
              "3.1       69\n",
              "3.2       64\n",
              "2.9       45\n",
              "2.8       42\n",
              "2.7       25\n",
              "2.6       25\n",
              "2.5       21\n",
              "2.3       20\n",
              "2.4       19\n",
              "1.0       16\n",
              "2.2       14\n",
              "1.9       13\n",
              "2.0       12\n",
              "2.1        8\n",
              "1.8        8\n",
              "1.7        8\n",
              "1.6        4\n",
              "1.5        3\n",
              "1.4        3\n",
              "1.2        1\n",
              "19.0       1\n",
              "dtype: int64"
            ]
          },
          "metadata": {},
          "execution_count": 378
        }
      ]
    },
    {
      "cell_type": "markdown",
      "source": [
        "#### Vemos que hay un valor de 19.0 lo vamos a reemplazar por un valor nulo y completamos con la media"
      ],
      "metadata": {
        "id": "b7_2Hh6BC8Z3"
      }
    },
    {
      "cell_type": "code",
      "source": [
        "import numpy as np\n",
        "\n",
        "play_store['Rating'] = play_store['Rating'].replace(19.0, np.nan)\n",
        "\n",
        "# Calcula la media de la columna 'Rating' excluyendo los valores nulos\n",
        "mean_Rating = play_store['Rating'].dropna().mean()\n",
        "\n",
        "#Le aplica la media a los nulos\n",
        "play_store['Rating'] = play_store['Rating'].fillna(mean_Rating)"
      ],
      "metadata": {
        "id": "0bpbjhzuF8ZG"
      },
      "execution_count": 379,
      "outputs": []
    },
    {
      "cell_type": "markdown",
      "source": [
        "#### Por ultimo las vamos a agrupar en rangos para la clasificación. Tras probar combinaciones de como agruparlas vi que era la mejor"
      ],
      "metadata": {
        "id": "0dWnc8WyGlri"
      }
    },
    {
      "cell_type": "code",
      "source": [
        "play_store.loc[(play_store['Rating'] >= 0)   & (play_store['Rating'] <= 3),\"Rating\"] = 3\n",
        "play_store.loc[(play_store['Rating'] > 3) & (play_store['Rating'] <= 4.3)  ,\"Rating\"] = 4\n",
        "play_store.loc[(play_store['Rating'] > 4.3)   & (play_store['Rating'] <= 5),\"Rating\"] = 5\n",
        "play_store.value_counts(\"Rating\")"
      ],
      "metadata": {
        "id": "tY0makZjDc9V",
        "colab": {
          "base_uri": "https://localhost:8080/"
        },
        "outputId": "a9cbf332-1a43-4542-db80-d59d12cb836c"
      },
      "execution_count": 380,
      "outputs": [
        {
          "output_type": "execute_result",
          "data": {
            "text/plain": [
              "Rating\n",
              "4.0    4933\n",
              "5.0    4064\n",
              "3.0     370\n",
              "dtype: int64"
            ]
          },
          "metadata": {},
          "execution_count": 380
        }
      ]
    },
    {
      "cell_type": "markdown",
      "source": [
        "# 1º Vamos a empezar viendo las frecuencias de los valores de la columna Category para ver si se pueden agrupar"
      ],
      "metadata": {
        "id": "LUU_0Vfa1HHy"
      }
    },
    {
      "cell_type": "code",
      "source": [
        "play_store['Category'].value_counts()"
      ],
      "metadata": {
        "colab": {
          "base_uri": "https://localhost:8080/"
        },
        "id": "SDSFZShfUCA4",
        "outputId": "9372057c-ef5e-475c-b3eb-f91d635b1816"
      },
      "execution_count": 381,
      "outputs": [
        {
          "output_type": "execute_result",
          "data": {
            "text/plain": [
              "FAMILY                 1747\n",
              "GAME                   1097\n",
              "TOOLS                   734\n",
              "PRODUCTIVITY            351\n",
              "MEDICAL                 350\n",
              "COMMUNICATION           328\n",
              "FINANCE                 323\n",
              "SPORTS                  319\n",
              "PHOTOGRAPHY             317\n",
              "LIFESTYLE               314\n",
              "PERSONALIZATION         314\n",
              "BUSINESS                303\n",
              "HEALTH_AND_FITNESS      297\n",
              "SOCIAL                  259\n",
              "SHOPPING                238\n",
              "NEWS_AND_MAGAZINES      233\n",
              "TRAVEL_AND_LOCAL        226\n",
              "DATING                  195\n",
              "BOOKS_AND_REFERENCE     178\n",
              "VIDEO_PLAYERS           160\n",
              "EDUCATION               155\n",
              "ENTERTAINMENT           149\n",
              "MAPS_AND_NAVIGATION     124\n",
              "FOOD_AND_DRINK          109\n",
              "HOUSE_AND_HOME           76\n",
              "WEATHER                  75\n",
              "AUTO_AND_VEHICLES        73\n",
              "LIBRARIES_AND_DEMO       65\n",
              "ART_AND_DESIGN           62\n",
              "COMICS                   58\n",
              "PARENTING                50\n",
              "EVENTS                   45\n",
              "BEAUTY                   42\n",
              "1.9                       1\n",
              "Name: Category, dtype: int64"
            ]
          },
          "metadata": {},
          "execution_count": 381
        }
      ]
    },
    {
      "cell_type": "markdown",
      "source": [
        "#### Vemos que las frecuencias en las categorías son muy dispares asique juntaremos en una categoria las que tengan sentido, como por ejemplo Business con Finance para intentar mejorarlo. **Era mínimamente mejor sin agruparlas asique descartado**"
      ],
      "metadata": {
        "id": "3qaZrvq9rdQb"
      }
    },
    {
      "cell_type": "code",
      "source": [
        "# play_store['Category'] = play_store['Category'].replace([\"BUSINESS\",\"FINANCE\",\"PRODUCTIVITY\"], \"BUSINESS-FINANCE-PRODUCTIVITY\")\n",
        "\n",
        "# play_store['Category'] = play_store['Category'].replace([\"TOOLS\",\"LIBRARIES_AND_DEMO\"], \"TOOLS-LIBRARIES_AND_DEMO\")\n",
        "\n",
        "# play_store['Category'] = play_store['Category'].replace([\"COMMUNICATION\",\"SOCIAL\",\"DATING\"], \"COMMUNICATION-SOCIAL-DATING\")\n",
        "\n",
        "# play_store['Category'] = play_store['Category'].replace([\"PHOTOGRAPHY\",\"ART_AND_DESIGN\"],\"PHOTOGRAPHY-ART_AND_DESIGN\")\n",
        "\n",
        "# play_store['Category'] = play_store['Category'].replace([\"ENTERTAINMENT\",\"GAME\",\"VIDEO_PLAYERS\"], \"GAME-ENTERTAINMENT-VIDEO_PLAYERS\")\n",
        "\n",
        "# play_store['Category'] = play_store['Category'].replace([\"EDUCATION\",\"BOOKS_AND_REFERENCE\",\"NEWS_AND_MAGAZINES\",\"COMICS\"], \"EDUCATION-BOOKS-NEWS-MAGAZINES-COMICS\")\n",
        "\n",
        "# play_store['Category'] = play_store['Category'].replace([\"SPORTS\",\"MEDICAL\",\"HEALTH_AND_FITNESS\",\"BEAUTY\",\"FOOD_AND_DRINK\"], \"SPORTS-MEDICAL-HEALTH_AND_FITNESS-BEAUTY-FOOD_AND_DRINK\")\n",
        "\n",
        "# play_store['Category'] = play_store['Category'].replace([\"FAMILY\",\"PARENTING\"], \"FAMILY-PARENTING\")\n",
        "\n",
        "# play_store['Category'] = play_store['Category'].replace([\"PERSONALIZATION\",\"LIFESTYLE\"],\"PERSONALIZATION-LIFESTYLE\")\n",
        "\n",
        "# play_store['Category'] = play_store['Category'].replace([\"SHOPPING\",\"TRAVEL_AND_LOCAL\",\"MAPS_AND_NAVIGATION\",\"AUTO_AND_VEHICLES\",\"WEATHER\",\"EVENTS\",\"1.9\",\"HOUSE_AND_HOME\"], \"OTHERS\")\n",
        "\n",
        "\n",
        "# play_store['Category'].value_counts()"
      ],
      "metadata": {
        "id": "ofb6QLKor2U3"
      },
      "execution_count": 382,
      "outputs": []
    },
    {
      "cell_type": "markdown",
      "source": [
        "#### Un vez agrupadas y tras ver que el modelo no era muy bueno prediciendo vamos a aplicarle un CountFrequencyEncoder a las categorías agrupadas"
      ],
      "metadata": {
        "id": "BLhg--NzyI0q"
      }
    },
    {
      "cell_type": "code",
      "source": [
        "from feature_engine.encoding import CountFrequencyEncoder\n",
        "\n",
        "# set up the encoder\n",
        "encoder = CountFrequencyEncoder(encoding_method='frequency',\n",
        "                         variables=[\"Category\"])\n",
        "\n",
        "# fit the encoder\n",
        "encoder.fit(play_store)\n",
        "\n",
        "# transform the data\n",
        "play_store = encoder.transform(play_store)\n",
        "\n",
        "\n",
        "play_store.head()"
      ],
      "metadata": {
        "colab": {
          "base_uri": "https://localhost:8080/",
          "height": 0
        },
        "id": "OnTXCiwSyRxy",
        "outputId": "ad21ead1-415c-4280-d9b6-9db523ef8dbb"
      },
      "execution_count": 383,
      "outputs": [
        {
          "output_type": "execute_result",
          "data": {
            "text/plain": [
              "   Category  Rating Reviews  Size     Installs  Type Price Content Rating  \\\n",
              "0  0.006619     4.0     159   19M      10,000+  Free     0       Everyone   \n",
              "1  0.006619     4.0     967   14M     500,000+  Free     0       Everyone   \n",
              "2  0.006619     5.0   87510  8.7M   5,000,000+  Free     0       Everyone   \n",
              "3  0.006619     5.0  215644   25M  50,000,000+  Free     0           Teen   \n",
              "4  0.006619     4.0     967  2.8M     100,000+  Free     0       Everyone   \n",
              "\n",
              "                      Genres  \n",
              "0               Art & Design  \n",
              "1  Art & Design;Pretend Play  \n",
              "2               Art & Design  \n",
              "3               Art & Design  \n",
              "4    Art & Design;Creativity  "
            ],
            "text/html": [
              "\n",
              "\n",
              "  <div id=\"df-f971e187-62b4-479c-b0c9-29c1eb998ab9\">\n",
              "    <div class=\"colab-df-container\">\n",
              "      <div>\n",
              "<style scoped>\n",
              "    .dataframe tbody tr th:only-of-type {\n",
              "        vertical-align: middle;\n",
              "    }\n",
              "\n",
              "    .dataframe tbody tr th {\n",
              "        vertical-align: top;\n",
              "    }\n",
              "\n",
              "    .dataframe thead th {\n",
              "        text-align: right;\n",
              "    }\n",
              "</style>\n",
              "<table border=\"1\" class=\"dataframe\">\n",
              "  <thead>\n",
              "    <tr style=\"text-align: right;\">\n",
              "      <th></th>\n",
              "      <th>Category</th>\n",
              "      <th>Rating</th>\n",
              "      <th>Reviews</th>\n",
              "      <th>Size</th>\n",
              "      <th>Installs</th>\n",
              "      <th>Type</th>\n",
              "      <th>Price</th>\n",
              "      <th>Content Rating</th>\n",
              "      <th>Genres</th>\n",
              "    </tr>\n",
              "  </thead>\n",
              "  <tbody>\n",
              "    <tr>\n",
              "      <th>0</th>\n",
              "      <td>0.006619</td>\n",
              "      <td>4.0</td>\n",
              "      <td>159</td>\n",
              "      <td>19M</td>\n",
              "      <td>10,000+</td>\n",
              "      <td>Free</td>\n",
              "      <td>0</td>\n",
              "      <td>Everyone</td>\n",
              "      <td>Art &amp; Design</td>\n",
              "    </tr>\n",
              "    <tr>\n",
              "      <th>1</th>\n",
              "      <td>0.006619</td>\n",
              "      <td>4.0</td>\n",
              "      <td>967</td>\n",
              "      <td>14M</td>\n",
              "      <td>500,000+</td>\n",
              "      <td>Free</td>\n",
              "      <td>0</td>\n",
              "      <td>Everyone</td>\n",
              "      <td>Art &amp; Design;Pretend Play</td>\n",
              "    </tr>\n",
              "    <tr>\n",
              "      <th>2</th>\n",
              "      <td>0.006619</td>\n",
              "      <td>5.0</td>\n",
              "      <td>87510</td>\n",
              "      <td>8.7M</td>\n",
              "      <td>5,000,000+</td>\n",
              "      <td>Free</td>\n",
              "      <td>0</td>\n",
              "      <td>Everyone</td>\n",
              "      <td>Art &amp; Design</td>\n",
              "    </tr>\n",
              "    <tr>\n",
              "      <th>3</th>\n",
              "      <td>0.006619</td>\n",
              "      <td>5.0</td>\n",
              "      <td>215644</td>\n",
              "      <td>25M</td>\n",
              "      <td>50,000,000+</td>\n",
              "      <td>Free</td>\n",
              "      <td>0</td>\n",
              "      <td>Teen</td>\n",
              "      <td>Art &amp; Design</td>\n",
              "    </tr>\n",
              "    <tr>\n",
              "      <th>4</th>\n",
              "      <td>0.006619</td>\n",
              "      <td>4.0</td>\n",
              "      <td>967</td>\n",
              "      <td>2.8M</td>\n",
              "      <td>100,000+</td>\n",
              "      <td>Free</td>\n",
              "      <td>0</td>\n",
              "      <td>Everyone</td>\n",
              "      <td>Art &amp; Design;Creativity</td>\n",
              "    </tr>\n",
              "  </tbody>\n",
              "</table>\n",
              "</div>\n",
              "      <button class=\"colab-df-convert\" onclick=\"convertToInteractive('df-f971e187-62b4-479c-b0c9-29c1eb998ab9')\"\n",
              "              title=\"Convert this dataframe to an interactive table.\"\n",
              "              style=\"display:none;\">\n",
              "\n",
              "  <svg xmlns=\"http://www.w3.org/2000/svg\" height=\"24px\"viewBox=\"0 0 24 24\"\n",
              "       width=\"24px\">\n",
              "    <path d=\"M0 0h24v24H0V0z\" fill=\"none\"/>\n",
              "    <path d=\"M18.56 5.44l.94 2.06.94-2.06 2.06-.94-2.06-.94-.94-2.06-.94 2.06-2.06.94zm-11 1L8.5 8.5l.94-2.06 2.06-.94-2.06-.94L8.5 2.5l-.94 2.06-2.06.94zm10 10l.94 2.06.94-2.06 2.06-.94-2.06-.94-.94-2.06-.94 2.06-2.06.94z\"/><path d=\"M17.41 7.96l-1.37-1.37c-.4-.4-.92-.59-1.43-.59-.52 0-1.04.2-1.43.59L10.3 9.45l-7.72 7.72c-.78.78-.78 2.05 0 2.83L4 21.41c.39.39.9.59 1.41.59.51 0 1.02-.2 1.41-.59l7.78-7.78 2.81-2.81c.8-.78.8-2.07 0-2.86zM5.41 20L4 18.59l7.72-7.72 1.47 1.35L5.41 20z\"/>\n",
              "  </svg>\n",
              "      </button>\n",
              "\n",
              "\n",
              "\n",
              "    <div id=\"df-d26e0010-4f19-4f4b-b072-b11c472b662a\">\n",
              "      <button class=\"colab-df-quickchart\" onclick=\"quickchart('df-d26e0010-4f19-4f4b-b072-b11c472b662a')\"\n",
              "              title=\"Suggest charts.\"\n",
              "              style=\"display:none;\">\n",
              "\n",
              "<svg xmlns=\"http://www.w3.org/2000/svg\" height=\"24px\"viewBox=\"0 0 24 24\"\n",
              "     width=\"24px\">\n",
              "    <g>\n",
              "        <path d=\"M19 3H5c-1.1 0-2 .9-2 2v14c0 1.1.9 2 2 2h14c1.1 0 2-.9 2-2V5c0-1.1-.9-2-2-2zM9 17H7v-7h2v7zm4 0h-2V7h2v10zm4 0h-2v-4h2v4z\"/>\n",
              "    </g>\n",
              "</svg>\n",
              "      </button>\n",
              "    </div>\n",
              "\n",
              "<style>\n",
              "  .colab-df-quickchart {\n",
              "    background-color: #E8F0FE;\n",
              "    border: none;\n",
              "    border-radius: 50%;\n",
              "    cursor: pointer;\n",
              "    display: none;\n",
              "    fill: #1967D2;\n",
              "    height: 32px;\n",
              "    padding: 0 0 0 0;\n",
              "    width: 32px;\n",
              "  }\n",
              "\n",
              "  .colab-df-quickchart:hover {\n",
              "    background-color: #E2EBFA;\n",
              "    box-shadow: 0px 1px 2px rgba(60, 64, 67, 0.3), 0px 1px 3px 1px rgba(60, 64, 67, 0.15);\n",
              "    fill: #174EA6;\n",
              "  }\n",
              "\n",
              "  [theme=dark] .colab-df-quickchart {\n",
              "    background-color: #3B4455;\n",
              "    fill: #D2E3FC;\n",
              "  }\n",
              "\n",
              "  [theme=dark] .colab-df-quickchart:hover {\n",
              "    background-color: #434B5C;\n",
              "    box-shadow: 0px 1px 3px 1px rgba(0, 0, 0, 0.15);\n",
              "    filter: drop-shadow(0px 1px 2px rgba(0, 0, 0, 0.3));\n",
              "    fill: #FFFFFF;\n",
              "  }\n",
              "</style>\n",
              "\n",
              "    <script>\n",
              "      async function quickchart(key) {\n",
              "        const containerElement = document.querySelector('#' + key);\n",
              "        const charts = await google.colab.kernel.invokeFunction(\n",
              "            'suggestCharts', [key], {});\n",
              "      }\n",
              "    </script>\n",
              "\n",
              "      <script>\n",
              "\n",
              "function displayQuickchartButton(domScope) {\n",
              "  let quickchartButtonEl =\n",
              "    domScope.querySelector('#df-d26e0010-4f19-4f4b-b072-b11c472b662a button.colab-df-quickchart');\n",
              "  quickchartButtonEl.style.display =\n",
              "    google.colab.kernel.accessAllowed ? 'block' : 'none';\n",
              "}\n",
              "\n",
              "        displayQuickchartButton(document);\n",
              "      </script>\n",
              "      <style>\n",
              "    .colab-df-container {\n",
              "      display:flex;\n",
              "      flex-wrap:wrap;\n",
              "      gap: 12px;\n",
              "    }\n",
              "\n",
              "    .colab-df-convert {\n",
              "      background-color: #E8F0FE;\n",
              "      border: none;\n",
              "      border-radius: 50%;\n",
              "      cursor: pointer;\n",
              "      display: none;\n",
              "      fill: #1967D2;\n",
              "      height: 32px;\n",
              "      padding: 0 0 0 0;\n",
              "      width: 32px;\n",
              "    }\n",
              "\n",
              "    .colab-df-convert:hover {\n",
              "      background-color: #E2EBFA;\n",
              "      box-shadow: 0px 1px 2px rgba(60, 64, 67, 0.3), 0px 1px 3px 1px rgba(60, 64, 67, 0.15);\n",
              "      fill: #174EA6;\n",
              "    }\n",
              "\n",
              "    [theme=dark] .colab-df-convert {\n",
              "      background-color: #3B4455;\n",
              "      fill: #D2E3FC;\n",
              "    }\n",
              "\n",
              "    [theme=dark] .colab-df-convert:hover {\n",
              "      background-color: #434B5C;\n",
              "      box-shadow: 0px 1px 3px 1px rgba(0, 0, 0, 0.15);\n",
              "      filter: drop-shadow(0px 1px 2px rgba(0, 0, 0, 0.3));\n",
              "      fill: #FFFFFF;\n",
              "    }\n",
              "  </style>\n",
              "\n",
              "      <script>\n",
              "        const buttonEl =\n",
              "          document.querySelector('#df-f971e187-62b4-479c-b0c9-29c1eb998ab9 button.colab-df-convert');\n",
              "        buttonEl.style.display =\n",
              "          google.colab.kernel.accessAllowed ? 'block' : 'none';\n",
              "\n",
              "        async function convertToInteractive(key) {\n",
              "          const element = document.querySelector('#df-f971e187-62b4-479c-b0c9-29c1eb998ab9');\n",
              "          const dataTable =\n",
              "            await google.colab.kernel.invokeFunction('convertToInteractive',\n",
              "                                                     [key], {});\n",
              "          if (!dataTable) return;\n",
              "\n",
              "          const docLinkHtml = 'Like what you see? Visit the ' +\n",
              "            '<a target=\"_blank\" href=https://colab.research.google.com/notebooks/data_table.ipynb>data table notebook</a>'\n",
              "            + ' to learn more about interactive tables.';\n",
              "          element.innerHTML = '';\n",
              "          dataTable['output_type'] = 'display_data';\n",
              "          await google.colab.output.renderOutput(dataTable, element);\n",
              "          const docLink = document.createElement('div');\n",
              "          docLink.innerHTML = docLinkHtml;\n",
              "          element.appendChild(docLink);\n",
              "        }\n",
              "      </script>\n",
              "    </div>\n",
              "  </div>\n"
            ]
          },
          "metadata": {},
          "execution_count": 383
        }
      ]
    },
    {
      "cell_type": "code",
      "source": [
        "play_store['Category'].value_counts()"
      ],
      "metadata": {
        "colab": {
          "base_uri": "https://localhost:8080/"
        },
        "id": "2faSc3_x4IYc",
        "outputId": "3b651de7-4f92-4c22-dd77-482acc1b7332"
      },
      "execution_count": 384,
      "outputs": [
        {
          "output_type": "execute_result",
          "data": {
            "text/plain": [
              "0.186506    1747\n",
              "0.117113    1097\n",
              "0.078360     734\n",
              "0.033522     628\n",
              "0.037472     351\n",
              "0.037365     350\n",
              "0.035017     328\n",
              "0.034483     323\n",
              "0.034056     319\n",
              "0.033842     317\n",
              "0.032348     303\n",
              "0.031707     297\n",
              "0.027650     259\n",
              "0.025408     238\n",
              "0.024875     233\n",
              "0.024127     226\n",
              "0.020818     195\n",
              "0.019003     178\n",
              "0.017081     160\n",
              "0.016547     155\n",
              "0.015907     149\n",
              "0.013238     124\n",
              "0.011637     109\n",
              "0.008114      76\n",
              "0.008007      75\n",
              "0.007793      73\n",
              "0.006939      65\n",
              "0.006619      62\n",
              "0.006192      58\n",
              "0.005338      50\n",
              "0.004804      45\n",
              "0.004484      42\n",
              "0.000107       1\n",
              "Name: Category, dtype: int64"
            ]
          },
          "metadata": {},
          "execution_count": 384
        }
      ]
    },
    {
      "cell_type": "markdown",
      "source": [
        "# 2º Ahora vamos con la columna Reviews que la vamos a pasar a float"
      ],
      "metadata": {
        "id": "it6iJFvX7z37"
      }
    },
    {
      "cell_type": "code",
      "source": [
        "play_store['Reviews'] = play_store['Reviews'].replace(\"3.0M\", \"3000000\") #Este es el unico valor que nos daría problemas a pasar los datos a float, asique lo reemplazamos\n",
        "\n",
        "play_store['Reviews'] = play_store['Reviews'].astype(float) #Las pasamos de String a float"
      ],
      "metadata": {
        "id": "aUahlE908Bnq"
      },
      "execution_count": 385,
      "outputs": []
    },
    {
      "cell_type": "markdown",
      "source": [
        "#### Vemos que tiene muy poca correlación asique vamos a agrupar los datos buscando conseguir una mayor corelación"
      ],
      "metadata": {
        "id": "PXU8_6es8zoW"
      }
    },
    {
      "cell_type": "markdown",
      "source": [
        "### Agrupamos en 0, +500, +1000, +5000, +10000, +20_000. **A la hora de probar el modelo hemos visto que daba mejores resultados sin agruparlos asique descartamos esta opción**"
      ],
      "metadata": {
        "id": "zFQlKJ6U1XHj"
      }
    },
    {
      "cell_type": "code",
      "source": [
        "# play_store.loc[(play_store['Reviews'] == 0),\"Reviews\"] = 0.000001 #Para que no de fallo al hacerle el log10\n",
        "# play_store.loc[(play_store['Reviews'] >= 0) & (play_store['Reviews'] < 500),\"Reviews\"] = 0.000001 #Para que no de fallo al hacerle el log10\n",
        "# play_store.loc[(play_store['Reviews'] >= 500) & (play_store['Reviews'] < 1_000),\"Reviews\"] = 500\n",
        "# play_store.loc[(play_store['Reviews'] >= 1_000) & (play_store['Reviews'] < 5_000),\"Reviews\"] = 1_000\n",
        "# play_store.loc[(play_store['Reviews'] >= 5_000) & (play_store['Reviews'] < 10_000),\"Reviews\"] = 5_000\n",
        "# play_store.loc[(play_store['Reviews'] >= 10_000) & (play_store['Reviews'] < 20_000),\"Reviews\"] = 10_000\n",
        "# play_store.loc[(play_store['Reviews'] >= 20_000) & (play_store['Reviews'] < 50_000),\"Reviews\"] = 20_000\n",
        "# play_store.loc[(play_store['Reviews'] >= 50_000) & (play_store['Reviews'] < 100_000),\"Reviews\"] = 50_000\n",
        "# play_store.loc[(play_store['Reviews'] >= 100_000) & (play_store['Reviews'] < 500_000),\"Reviews\"] = 100_000\n",
        "# play_store.loc[(play_store['Reviews'] >= 500_000) & (play_store['Reviews'] < 1_000_000),\"Reviews\"] = 500_000\n",
        "# play_store.loc[(play_store['Reviews'] >= 1_000_000) & (play_store['Reviews'] < 10_000_000),\"Reviews\"] = 1_000_000\n",
        "# play_store.loc[(play_store['Reviews'] >= 10_000_000),\"Reviews\"] = 10_000_000\n",
        "\n",
        "# play_store['Reviews'].value_counts()"
      ],
      "metadata": {
        "id": "A08-I0CU1WXJ"
      },
      "execution_count": 386,
      "outputs": []
    },
    {
      "cell_type": "markdown",
      "source": [
        "# 3º Vamos a ver la frecuencia de los datos de Installs"
      ],
      "metadata": {
        "id": "EZN6ZHvpg-rN"
      }
    },
    {
      "cell_type": "code",
      "source": [
        "play_store['Installs'].value_counts()"
      ],
      "metadata": {
        "colab": {
          "base_uri": "https://localhost:8080/"
        },
        "id": "6x4OlnIVhGuE",
        "outputId": "d79c581d-7da2-49d1-aac0-9801ce022aca"
      },
      "execution_count": 387,
      "outputs": [
        {
          "output_type": "execute_result",
          "data": {
            "text/plain": [
              "1,000,000+        1577\n",
              "10,000,000+       1252\n",
              "100,000+          1150\n",
              "10,000+           1010\n",
              "5,000,000+         752\n",
              "1,000+             713\n",
              "500,000+           538\n",
              "50,000+            467\n",
              "5,000+             432\n",
              "100,000,000+       409\n",
              "100+               309\n",
              "50,000,000+        289\n",
              "500+               201\n",
              "500,000,000+        72\n",
              "10+                 69\n",
              "1,000,000,000+      58\n",
              "50+                 56\n",
              "5+                   9\n",
              "1+                   3\n",
              "Free                 1\n",
              "Name: Installs, dtype: int64"
            ]
          },
          "metadata": {},
          "execution_count": 387
        }
      ]
    },
    {
      "cell_type": "markdown",
      "source": [
        "#### Vamos a quitarles el + las comas y el Free y los reemplazamos por un 0 y así lo podremos pasar a float."
      ],
      "metadata": {
        "id": "n8dpMMsWszrP"
      }
    },
    {
      "cell_type": "code",
      "source": [
        "play_store['Installs'] = play_store['Installs'].replace('Free', '0')\n",
        "play_store['Installs'] = play_store['Installs'].str.replace('+', '',regex=True).str.replace(',', '',regex=True)\n",
        "play_store['Installs'] = play_store['Installs'].astype(float)"
      ],
      "metadata": {
        "id": "NvOUcE0tsydo"
      },
      "execution_count": 388,
      "outputs": []
    },
    {
      "cell_type": "code",
      "source": [
        "play_store['Installs'].value_counts()"
      ],
      "metadata": {
        "colab": {
          "base_uri": "https://localhost:8080/"
        },
        "id": "G6rNJd65fCn7",
        "outputId": "989af0d4-5baf-4dfa-ec8e-97f7490cd9f0"
      },
      "execution_count": 389,
      "outputs": [
        {
          "output_type": "execute_result",
          "data": {
            "text/plain": [
              "1.000000e+06    1577\n",
              "1.000000e+07    1252\n",
              "1.000000e+05    1150\n",
              "1.000000e+04    1010\n",
              "5.000000e+06     752\n",
              "1.000000e+03     713\n",
              "5.000000e+05     538\n",
              "5.000000e+04     467\n",
              "5.000000e+03     432\n",
              "1.000000e+08     409\n",
              "1.000000e+02     309\n",
              "5.000000e+07     289\n",
              "5.000000e+02     201\n",
              "5.000000e+08      72\n",
              "1.000000e+01      69\n",
              "1.000000e+09      58\n",
              "5.000000e+01      56\n",
              "5.000000e+00       9\n",
              "1.000000e+00       3\n",
              "0.000000e+00       1\n",
              "Name: Installs, dtype: int64"
            ]
          },
          "metadata": {},
          "execution_count": 389
        }
      ]
    },
    {
      "cell_type": "markdown",
      "source": [
        "# 4º Vamos con la columna Type"
      ],
      "metadata": {
        "id": "9ki1VQdhxF_M"
      }
    },
    {
      "cell_type": "code",
      "source": [
        "play_store['Type'].value_counts()"
      ],
      "metadata": {
        "colab": {
          "base_uri": "https://localhost:8080/"
        },
        "id": "z8XpA5mfrA0R",
        "outputId": "2be945ce-77a5-4e7b-fa9e-5b5a2dfc6084"
      },
      "execution_count": 390,
      "outputs": [
        {
          "output_type": "execute_result",
          "data": {
            "text/plain": [
              "Free    8719\n",
              "Paid     647\n",
              "0          1\n",
              "Name: Type, dtype: int64"
            ]
          },
          "metadata": {},
          "execution_count": 390
        }
      ]
    },
    {
      "cell_type": "code",
      "source": [
        "play_store['Type'] = play_store['Type'].replace(\"0\", 'Free')\n",
        "play_store['Type'].value_counts()"
      ],
      "metadata": {
        "colab": {
          "base_uri": "https://localhost:8080/"
        },
        "id": "RqRnFCWexs4H",
        "outputId": "3579fe59-eb68-478f-d130-e7aba9edeb84"
      },
      "execution_count": 391,
      "outputs": [
        {
          "output_type": "execute_result",
          "data": {
            "text/plain": [
              "Free    8720\n",
              "Paid     647\n",
              "Name: Type, dtype: int64"
            ]
          },
          "metadata": {},
          "execution_count": 391
        }
      ]
    },
    {
      "cell_type": "markdown",
      "source": [
        "# 5º Vamos con la columna Price"
      ],
      "metadata": {
        "id": "g3AhMbsnySBG"
      }
    },
    {
      "cell_type": "code",
      "source": [
        "play_store['Price'].value_counts()"
      ],
      "metadata": {
        "colab": {
          "base_uri": "https://localhost:8080/"
        },
        "id": "6nSrZmCkrVKA",
        "outputId": "56804a0e-20a3-4eb9-881a-5c8adcc6046a"
      },
      "execution_count": 392,
      "outputs": [
        {
          "output_type": "execute_result",
          "data": {
            "text/plain": [
              "0          8719\n",
              "$2.99       114\n",
              "$0.99       107\n",
              "$4.99        70\n",
              "$1.99        59\n",
              "           ... \n",
              "$299.99       1\n",
              "$379.99       1\n",
              "$37.99        1\n",
              "$18.99        1\n",
              "$1.20         1\n",
              "Name: Price, Length: 74, dtype: int64"
            ]
          },
          "metadata": {},
          "execution_count": 392
        }
      ]
    },
    {
      "cell_type": "markdown",
      "source": [
        "#### Pasaremos todos los datos a float quitándoles antes el signo $. Ponemos los datos a 0 porque es el valor más común y con mucha diferencia siendo la frecuencia de 0 8627 y del segundo más frecuente 114, sino hariamos la media"
      ],
      "metadata": {
        "id": "84P9S9JSyb79"
      }
    },
    {
      "cell_type": "code",
      "source": [
        "play_store['Price'] = play_store['Price'].str.replace('$', '')\n",
        "play_store['Price'] = play_store['Price'].str.replace('Everyone', '777')\n",
        "play_store['Price'] = play_store['Price'].astype(float)"
      ],
      "metadata": {
        "colab": {
          "base_uri": "https://localhost:8080/"
        },
        "id": "VyzIaUdwz_8E",
        "outputId": "e1af07f5-16bf-44ef-8495-dde9b3232ae9"
      },
      "execution_count": 393,
      "outputs": [
        {
          "output_type": "stream",
          "name": "stderr",
          "text": [
            "<ipython-input-393-19c1cf468892>:1: FutureWarning: The default value of regex will change from True to False in a future version. In addition, single character regular expressions will *not* be treated as literal strings when regex=True.\n",
            "  play_store['Price'] = play_store['Price'].str.replace('$', '')\n"
          ]
        }
      ]
    },
    {
      "cell_type": "code",
      "source": [
        "play_store['Price'].value_counts()"
      ],
      "metadata": {
        "colab": {
          "base_uri": "https://localhost:8080/"
        },
        "id": "22vhURwdW9Mw",
        "outputId": "a51a083b-8fb9-44ef-d4be-52a14ee8dc09"
      },
      "execution_count": 394,
      "outputs": [
        {
          "output_type": "execute_result",
          "data": {
            "text/plain": [
              "0.00      8719\n",
              "2.99       114\n",
              "0.99       107\n",
              "4.99        70\n",
              "1.99        59\n",
              "          ... \n",
              "299.99       1\n",
              "379.99       1\n",
              "37.99        1\n",
              "18.99        1\n",
              "1.20         1\n",
              "Name: Price, Length: 74, dtype: int64"
            ]
          },
          "metadata": {},
          "execution_count": 394
        }
      ]
    },
    {
      "cell_type": "markdown",
      "source": [
        "#### Su correlación es mala asique vamos a intentar mejorarla agrupando. **Descartado ya que no mejoraba el algoritmo**"
      ],
      "metadata": {
        "id": "WltAPLcb33Bm"
      }
    },
    {
      "cell_type": "code",
      "source": [
        "play_store.loc[(play_store['Price'] == 0),\"Price\"] = 0.0001 #Para dividirlo con otra columna\n",
        "# play_store.loc[(play_store['Price'] > 0) & (play_store['Price'] <= 0.99),\"Price\"] = 1\n",
        "# play_store.loc[(play_store['Price'] > 1) & (play_store['Price'] <= 1.99),\"Price\"] = 1.99\n",
        "# play_store.loc[(play_store['Price'] > 1.99) & (play_store['Price'] <= 2.99),\"Price\"] = 2.99\n",
        "# play_store.loc[(play_store['Price'] > 2.99) & (play_store['Price'] <= 3.99),\"Price\"] = 3.99\n",
        "# play_store.loc[(play_store['Price'] > 3.99) & (play_store['Price'] <= 4.99),\"Price\"] = 4.99\n",
        "# play_store.loc[(play_store['Price'] > 4.99) & (play_store['Price'] <= 5.99),\"Price\"] = 5.99\n",
        "# play_store.loc[(play_store['Price'] > 5.99) & (play_store['Price'] <= 20),\"Price\"] = 20\n",
        "# play_store.loc[(play_store['Price'] > 20) & (play_store['Price'] <= 50),\"Price\"] = 50\n",
        "# play_store.loc[(play_store['Price'] > 50) & (play_store['Price'] <= 100),\"Price\"] = 100\n",
        "# play_store.loc[(play_store['Price'] >= 299.99) & (play_store['Price'] <= 400.00),\"Price\"] = 400.00"
      ],
      "metadata": {
        "id": "GfvJC4Bw6PNH"
      },
      "execution_count": 395,
      "outputs": []
    },
    {
      "cell_type": "code",
      "source": [
        "play_store['Price'].value_counts()"
      ],
      "metadata": {
        "colab": {
          "base_uri": "https://localhost:8080/"
        },
        "id": "lKMygcQ0Et3h",
        "outputId": "afa5d07f-6536-46a7-9137-63cb0c8f7fb4"
      },
      "execution_count": 396,
      "outputs": [
        {
          "output_type": "execute_result",
          "data": {
            "text/plain": [
              "0.0001      8719\n",
              "2.9900       114\n",
              "0.9900       107\n",
              "4.9900        70\n",
              "1.9900        59\n",
              "            ... \n",
              "299.9900       1\n",
              "379.9900       1\n",
              "37.9900        1\n",
              "18.9900        1\n",
              "1.2000         1\n",
              "Name: Price, Length: 74, dtype: int64"
            ]
          },
          "metadata": {},
          "execution_count": 396
        }
      ]
    },
    {
      "cell_type": "markdown",
      "source": [
        "# 6º Vamos con la columna Content Rating"
      ],
      "metadata": {
        "id": "xka7g0wPUP2Q"
      }
    },
    {
      "cell_type": "code",
      "source": [
        "play_store['Content Rating'].value_counts()"
      ],
      "metadata": {
        "colab": {
          "base_uri": "https://localhost:8080/"
        },
        "id": "tJM6O755rZI4",
        "outputId": "3c547fea-ba3a-4aa2-e265-f8ff4b12a529"
      },
      "execution_count": 397,
      "outputs": [
        {
          "output_type": "execute_result",
          "data": {
            "text/plain": [
              "Everyone           7420\n",
              "Teen               1084\n",
              "Mature 17+          461\n",
              "Everyone 10+        397\n",
              "Adults only 18+       3\n",
              "Unrated               1\n",
              "Name: Content Rating, dtype: int64"
            ]
          },
          "metadata": {},
          "execution_count": 397
        }
      ]
    },
    {
      "cell_type": "markdown",
      "source": [
        "#### El que no tiene rango le vamos a poner que sea para todos los públicos"
      ],
      "metadata": {
        "id": "31cCxgWseFmv"
      }
    },
    {
      "cell_type": "code",
      "source": [
        "play_store['Content Rating'] = play_store['Content Rating'].replace(\"Unrated\", 'Everyone').replace(np.nan, 'Everyone')\n",
        "play_store['Content Rating'].value_counts()"
      ],
      "metadata": {
        "colab": {
          "base_uri": "https://localhost:8080/"
        },
        "id": "8euG4nkQUYQf",
        "outputId": "1719b9e2-8364-4d49-f326-9447709d8812"
      },
      "execution_count": 398,
      "outputs": [
        {
          "output_type": "execute_result",
          "data": {
            "text/plain": [
              "Everyone           7422\n",
              "Teen               1084\n",
              "Mature 17+          461\n",
              "Everyone 10+        397\n",
              "Adults only 18+       3\n",
              "Name: Content Rating, dtype: int64"
            ]
          },
          "metadata": {},
          "execution_count": 398
        }
      ]
    },
    {
      "cell_type": "markdown",
      "source": [
        "# 7º Vamos con la columna Genres"
      ],
      "metadata": {
        "id": "e-55sfj6UohV"
      }
    },
    {
      "cell_type": "code",
      "source": [
        "play_store['Genres'].value_counts()"
      ],
      "metadata": {
        "id": "iDh-TU-XrjmX",
        "colab": {
          "base_uri": "https://localhost:8080/"
        },
        "outputId": "4ef8f26c-d4d5-4466-d284-43bf74f8a5a9"
      },
      "execution_count": 399,
      "outputs": [
        {
          "output_type": "execute_result",
          "data": {
            "text/plain": [
              "Tools                          733\n",
              "Entertainment                  533\n",
              "Education                      468\n",
              "Action                         358\n",
              "Productivity                   351\n",
              "                              ... \n",
              "Health & Fitness;Education       1\n",
              "Music & Audio;Music & Video      1\n",
              "Arcade;Pretend Play              1\n",
              "Entertainment;Education          1\n",
              "Strategy;Creativity              1\n",
              "Name: Genres, Length: 116, dtype: int64"
            ]
          },
          "metadata": {},
          "execution_count": 399
        }
      ]
    },
    {
      "cell_type": "markdown",
      "source": [
        "#### Nos vamos a quedar con el índice de la fila que contiene dos generos. Esto lo haremos para comprobar su funciona lo que vamos a hacer más adelante"
      ],
      "metadata": {
        "id": "1HYJNuHBuJE6"
      }
    },
    {
      "cell_type": "code",
      "source": [
        "indice_comprobar = play_store.loc[play_store['Genres'] == 'Health & Fitness;Education'].index[0]"
      ],
      "metadata": {
        "id": "zdagyf1ctkfJ"
      },
      "execution_count": 400,
      "outputs": []
    },
    {
      "cell_type": "markdown",
      "source": [
        "#### Vemos que hay valores con solo un género y valores con varios géneros que están separadas por puntos asique primero creamos un conjunto con todos los géneros que hay"
      ],
      "metadata": {
        "id": "ptNZayogWgTm"
      }
    },
    {
      "cell_type": "code",
      "source": [
        "genres_set = set(play_store['Genres'].unique())\n",
        "genres_set_2 = set() #Este será el q no contiene varios generos\n",
        "\n",
        "# Hacemos un bucle que vaya genero por genero los que tienen ; los separará los enviará a una lista y recorrera la lista metiendolos en el conjunto\n",
        "# los que no tengan ; no los separa y los mete en el conjunto directamente\n",
        "\n",
        "for genre in genres_set:\n",
        "  if type(genre)==int: pass\n",
        "  else:\n",
        "    if ';' in genre: #Si tiene ; los separa y mete en la lista\n",
        "      genre_lista = genre.split(';')\n",
        "      for genre2 in genre_lista:\n",
        "        genres_set_2.add(genre2)\n",
        "    else:\n",
        "      genres_set_2.add(genre)\n",
        "\n",
        "print(genres_set_2)\n",
        "genres_set_2.remove(\"February 11, 2018\")\n",
        "print(genres_set_2)"
      ],
      "metadata": {
        "id": "tBCxQ2mCXQSg",
        "colab": {
          "base_uri": "https://localhost:8080/"
        },
        "outputId": "af8b6a1b-a087-4819-873c-10f2f940292d"
      },
      "execution_count": 401,
      "outputs": [
        {
          "output_type": "stream",
          "name": "stdout",
          "text": [
            "{'Books & Reference', 'Casino', 'Shopping', 'Strategy', 'Health & Fitness', 'Business', 'Art & Design', 'Parenting', 'Comics', 'Dating', 'Medical', 'Music & Audio', 'Productivity', 'Arcade', 'Casual', 'Video Players & Editors', 'Social', 'Role Playing', 'Trivia', 'Music & Video', 'Photography', 'Racing', 'House & Home', 'Simulation', 'Action & Adventure', 'Adventure', 'Lifestyle', 'Brain Games', 'Tools', 'Word', 'February 11, 2018', 'Board', 'Creativity', 'Entertainment', 'Sports', 'Communication', 'Personalization', 'Puzzle', 'Beauty', 'News & Magazines', 'Card', 'Food & Drink', 'Maps & Navigation', 'Finance', 'Travel & Local', 'Education', 'Music', 'Educational', 'Libraries & Demo', 'Auto & Vehicles', 'Pretend Play', 'Weather', 'Action', 'Events'}\n",
            "{'Books & Reference', 'Casino', 'Shopping', 'Strategy', 'Health & Fitness', 'Business', 'Art & Design', 'Parenting', 'Comics', 'Dating', 'Medical', 'Music & Audio', 'Productivity', 'Arcade', 'Casual', 'Video Players & Editors', 'Social', 'Role Playing', 'Trivia', 'Music & Video', 'Photography', 'Racing', 'House & Home', 'Simulation', 'Action & Adventure', 'Adventure', 'Lifestyle', 'Brain Games', 'Tools', 'Word', 'Board', 'Creativity', 'Entertainment', 'Sports', 'Communication', 'Personalization', 'Puzzle', 'Beauty', 'News & Magazines', 'Card', 'Food & Drink', 'Maps & Navigation', 'Finance', 'Travel & Local', 'Education', 'Music', 'Educational', 'Libraries & Demo', 'Auto & Vehicles', 'Pretend Play', 'Weather', 'Action', 'Events'}\n"
          ]
        }
      ]
    },
    {
      "cell_type": "markdown",
      "source": [
        "#### Creamos un Dataframe con valores que son todo 0 y con las columnas que son los distintos géneros que hay por separado y se le irá añadiendo un 1 si esa fila contiene ese género. Es un OneHotEncoder pero distinto ya que tendrá en cuenta los valores que contienen dos géneros que están separados por ;"
      ],
      "metadata": {
        "id": "LqMTXHRwXjfH"
      }
    },
    {
      "cell_type": "code",
      "source": [
        "# Obtener las columnas OneHotEncoding utilizando la función \"get_dummies()\"\n",
        "\n",
        "genres = play_store['Genres'].str.get_dummies(sep=';')\n",
        "genres_encoded = genres.apply(lambda x: x.astype(int)).sum(level=0)\n",
        "\n",
        "# Filtrar las columnas OneHotEncoding correspondientes a los géneros individuales de interés\n",
        "genres_encoded = genres[genres_set_2]\n",
        "\n",
        "# Concatenar las columnas OneHotEncoding al DataFrame original\n",
        "play_store_encoded = pd.concat([play_store, genres_encoded], axis=1)\n",
        "\n",
        "# Eliminar la columna original \"Genres\"\n",
        "play_store_encoded = play_store_encoded.drop('Genres', axis=1)"
      ],
      "metadata": {
        "id": "Ca8sGn2-XkKn",
        "colab": {
          "base_uri": "https://localhost:8080/"
        },
        "outputId": "9efc9923-29c8-48f9-f3c9-ba15fd3e4732"
      },
      "execution_count": 402,
      "outputs": [
        {
          "output_type": "stream",
          "name": "stderr",
          "text": [
            "<ipython-input-402-90b852831963>:4: FutureWarning: Using the level keyword in DataFrame and Series aggregations is deprecated and will be removed in a future version. Use groupby instead. df.sum(level=1) should use df.groupby(level=1).sum().\n",
            "  genres_encoded = genres.apply(lambda x: x.astype(int)).sum(level=0)\n",
            "<ipython-input-402-90b852831963>:7: FutureWarning: Passing a set as an indexer is deprecated and will raise in a future version. Use a list instead.\n",
            "  genres_encoded = genres[genres_set_2]\n"
          ]
        }
      ]
    },
    {
      "cell_type": "code",
      "source": [
        "play_store_encoded.loc[indice_comprobar, [\"Education\", \"Health & Fitness\"]]"
      ],
      "metadata": {
        "colab": {
          "base_uri": "https://localhost:8080/"
        },
        "id": "4v0t_1cdvBhS",
        "outputId": "c2e665b7-17c8-451c-a688-77a20d9e0486"
      },
      "execution_count": 403,
      "outputs": [
        {
          "output_type": "execute_result",
          "data": {
            "text/plain": [
              "Education           1\n",
              "Health & Fitness    1\n",
              "Name: 2145, dtype: object"
            ]
          },
          "metadata": {},
          "execution_count": 403
        }
      ]
    },
    {
      "cell_type": "markdown",
      "source": [
        "#### Como vemos a funcionado le ha puesto un 1 a Education y a Health & Fitness"
      ],
      "metadata": {
        "id": "UGRTuE3A0H33"
      }
    },
    {
      "cell_type": "code",
      "source": [
        "play_store = play_store_encoded\n",
        "play_store"
      ],
      "metadata": {
        "id": "Pt_CbTFbBINB",
        "colab": {
          "base_uri": "https://localhost:8080/",
          "height": 0
        },
        "outputId": "3c32d133-e7df-4b3b-f181-63fc028b7949"
      },
      "execution_count": 404,
      "outputs": [
        {
          "output_type": "execute_result",
          "data": {
            "text/plain": [
              "       Category  Rating   Reviews                Size    Installs  Type  \\\n",
              "0      0.006619     4.0     159.0                 19M     10000.0  Free   \n",
              "1      0.006619     4.0     967.0                 14M    500000.0  Free   \n",
              "2      0.006619     5.0   87510.0                8.7M   5000000.0  Free   \n",
              "3      0.006619     5.0  215644.0                 25M  50000000.0  Free   \n",
              "4      0.006619     4.0     967.0                2.8M    100000.0  Free   \n",
              "...         ...     ...       ...                 ...         ...   ...   \n",
              "10834  0.186506     4.0       7.0                2.6M       500.0  Free   \n",
              "10836  0.186506     5.0      38.0                 53M      5000.0  Free   \n",
              "10837  0.186506     5.0       4.0                3.6M       100.0  Free   \n",
              "10839  0.019003     5.0     114.0  Varies with device      1000.0  Free   \n",
              "10840  0.033522     5.0  398307.0                 19M  10000000.0  Free   \n",
              "\n",
              "        Price Content Rating  Books & Reference  Casino  ...  Travel & Local  \\\n",
              "0      0.0001       Everyone                  0       0  ...               0   \n",
              "1      0.0001       Everyone                  0       0  ...               0   \n",
              "2      0.0001       Everyone                  0       0  ...               0   \n",
              "3      0.0001           Teen                  0       0  ...               0   \n",
              "4      0.0001       Everyone                  0       0  ...               0   \n",
              "...       ...            ...                ...     ...  ...             ...   \n",
              "10834  0.0001       Everyone                  0       0  ...               0   \n",
              "10836  0.0001       Everyone                  0       0  ...               0   \n",
              "10837  0.0001       Everyone                  0       0  ...               0   \n",
              "10839  0.0001     Mature 17+                  1       0  ...               0   \n",
              "10840  0.0001       Everyone                  0       0  ...               0   \n",
              "\n",
              "       Education  Music  Educational  Libraries & Demo  Auto & Vehicles  \\\n",
              "0              0      0            0                 0                0   \n",
              "1              0      0            0                 0                0   \n",
              "2              0      0            0                 0                0   \n",
              "3              0      0            0                 0                0   \n",
              "4              0      0            0                 0                0   \n",
              "...          ...    ...          ...               ...              ...   \n",
              "10834          1      0            0                 0                0   \n",
              "10836          1      0            0                 0                0   \n",
              "10837          1      0            0                 0                0   \n",
              "10839          0      0            0                 0                0   \n",
              "10840          0      0            0                 0                0   \n",
              "\n",
              "       Pretend Play  Weather  Action  Events  \n",
              "0                 0        0       0       0  \n",
              "1                 1        0       0       0  \n",
              "2                 0        0       0       0  \n",
              "3                 0        0       0       0  \n",
              "4                 0        0       0       0  \n",
              "...             ...      ...     ...     ...  \n",
              "10834             0        0       0       0  \n",
              "10836             0        0       0       0  \n",
              "10837             0        0       0       0  \n",
              "10839             0        0       0       0  \n",
              "10840             0        0       0       0  \n",
              "\n",
              "[9367 rows x 61 columns]"
            ],
            "text/html": [
              "\n",
              "\n",
              "  <div id=\"df-fd6b1dfe-8877-47c2-8d55-2c9458a6b373\">\n",
              "    <div class=\"colab-df-container\">\n",
              "      <div>\n",
              "<style scoped>\n",
              "    .dataframe tbody tr th:only-of-type {\n",
              "        vertical-align: middle;\n",
              "    }\n",
              "\n",
              "    .dataframe tbody tr th {\n",
              "        vertical-align: top;\n",
              "    }\n",
              "\n",
              "    .dataframe thead th {\n",
              "        text-align: right;\n",
              "    }\n",
              "</style>\n",
              "<table border=\"1\" class=\"dataframe\">\n",
              "  <thead>\n",
              "    <tr style=\"text-align: right;\">\n",
              "      <th></th>\n",
              "      <th>Category</th>\n",
              "      <th>Rating</th>\n",
              "      <th>Reviews</th>\n",
              "      <th>Size</th>\n",
              "      <th>Installs</th>\n",
              "      <th>Type</th>\n",
              "      <th>Price</th>\n",
              "      <th>Content Rating</th>\n",
              "      <th>Books &amp; Reference</th>\n",
              "      <th>Casino</th>\n",
              "      <th>...</th>\n",
              "      <th>Travel &amp; Local</th>\n",
              "      <th>Education</th>\n",
              "      <th>Music</th>\n",
              "      <th>Educational</th>\n",
              "      <th>Libraries &amp; Demo</th>\n",
              "      <th>Auto &amp; Vehicles</th>\n",
              "      <th>Pretend Play</th>\n",
              "      <th>Weather</th>\n",
              "      <th>Action</th>\n",
              "      <th>Events</th>\n",
              "    </tr>\n",
              "  </thead>\n",
              "  <tbody>\n",
              "    <tr>\n",
              "      <th>0</th>\n",
              "      <td>0.006619</td>\n",
              "      <td>4.0</td>\n",
              "      <td>159.0</td>\n",
              "      <td>19M</td>\n",
              "      <td>10000.0</td>\n",
              "      <td>Free</td>\n",
              "      <td>0.0001</td>\n",
              "      <td>Everyone</td>\n",
              "      <td>0</td>\n",
              "      <td>0</td>\n",
              "      <td>...</td>\n",
              "      <td>0</td>\n",
              "      <td>0</td>\n",
              "      <td>0</td>\n",
              "      <td>0</td>\n",
              "      <td>0</td>\n",
              "      <td>0</td>\n",
              "      <td>0</td>\n",
              "      <td>0</td>\n",
              "      <td>0</td>\n",
              "      <td>0</td>\n",
              "    </tr>\n",
              "    <tr>\n",
              "      <th>1</th>\n",
              "      <td>0.006619</td>\n",
              "      <td>4.0</td>\n",
              "      <td>967.0</td>\n",
              "      <td>14M</td>\n",
              "      <td>500000.0</td>\n",
              "      <td>Free</td>\n",
              "      <td>0.0001</td>\n",
              "      <td>Everyone</td>\n",
              "      <td>0</td>\n",
              "      <td>0</td>\n",
              "      <td>...</td>\n",
              "      <td>0</td>\n",
              "      <td>0</td>\n",
              "      <td>0</td>\n",
              "      <td>0</td>\n",
              "      <td>0</td>\n",
              "      <td>0</td>\n",
              "      <td>1</td>\n",
              "      <td>0</td>\n",
              "      <td>0</td>\n",
              "      <td>0</td>\n",
              "    </tr>\n",
              "    <tr>\n",
              "      <th>2</th>\n",
              "      <td>0.006619</td>\n",
              "      <td>5.0</td>\n",
              "      <td>87510.0</td>\n",
              "      <td>8.7M</td>\n",
              "      <td>5000000.0</td>\n",
              "      <td>Free</td>\n",
              "      <td>0.0001</td>\n",
              "      <td>Everyone</td>\n",
              "      <td>0</td>\n",
              "      <td>0</td>\n",
              "      <td>...</td>\n",
              "      <td>0</td>\n",
              "      <td>0</td>\n",
              "      <td>0</td>\n",
              "      <td>0</td>\n",
              "      <td>0</td>\n",
              "      <td>0</td>\n",
              "      <td>0</td>\n",
              "      <td>0</td>\n",
              "      <td>0</td>\n",
              "      <td>0</td>\n",
              "    </tr>\n",
              "    <tr>\n",
              "      <th>3</th>\n",
              "      <td>0.006619</td>\n",
              "      <td>5.0</td>\n",
              "      <td>215644.0</td>\n",
              "      <td>25M</td>\n",
              "      <td>50000000.0</td>\n",
              "      <td>Free</td>\n",
              "      <td>0.0001</td>\n",
              "      <td>Teen</td>\n",
              "      <td>0</td>\n",
              "      <td>0</td>\n",
              "      <td>...</td>\n",
              "      <td>0</td>\n",
              "      <td>0</td>\n",
              "      <td>0</td>\n",
              "      <td>0</td>\n",
              "      <td>0</td>\n",
              "      <td>0</td>\n",
              "      <td>0</td>\n",
              "      <td>0</td>\n",
              "      <td>0</td>\n",
              "      <td>0</td>\n",
              "    </tr>\n",
              "    <tr>\n",
              "      <th>4</th>\n",
              "      <td>0.006619</td>\n",
              "      <td>4.0</td>\n",
              "      <td>967.0</td>\n",
              "      <td>2.8M</td>\n",
              "      <td>100000.0</td>\n",
              "      <td>Free</td>\n",
              "      <td>0.0001</td>\n",
              "      <td>Everyone</td>\n",
              "      <td>0</td>\n",
              "      <td>0</td>\n",
              "      <td>...</td>\n",
              "      <td>0</td>\n",
              "      <td>0</td>\n",
              "      <td>0</td>\n",
              "      <td>0</td>\n",
              "      <td>0</td>\n",
              "      <td>0</td>\n",
              "      <td>0</td>\n",
              "      <td>0</td>\n",
              "      <td>0</td>\n",
              "      <td>0</td>\n",
              "    </tr>\n",
              "    <tr>\n",
              "      <th>...</th>\n",
              "      <td>...</td>\n",
              "      <td>...</td>\n",
              "      <td>...</td>\n",
              "      <td>...</td>\n",
              "      <td>...</td>\n",
              "      <td>...</td>\n",
              "      <td>...</td>\n",
              "      <td>...</td>\n",
              "      <td>...</td>\n",
              "      <td>...</td>\n",
              "      <td>...</td>\n",
              "      <td>...</td>\n",
              "      <td>...</td>\n",
              "      <td>...</td>\n",
              "      <td>...</td>\n",
              "      <td>...</td>\n",
              "      <td>...</td>\n",
              "      <td>...</td>\n",
              "      <td>...</td>\n",
              "      <td>...</td>\n",
              "      <td>...</td>\n",
              "    </tr>\n",
              "    <tr>\n",
              "      <th>10834</th>\n",
              "      <td>0.186506</td>\n",
              "      <td>4.0</td>\n",
              "      <td>7.0</td>\n",
              "      <td>2.6M</td>\n",
              "      <td>500.0</td>\n",
              "      <td>Free</td>\n",
              "      <td>0.0001</td>\n",
              "      <td>Everyone</td>\n",
              "      <td>0</td>\n",
              "      <td>0</td>\n",
              "      <td>...</td>\n",
              "      <td>0</td>\n",
              "      <td>1</td>\n",
              "      <td>0</td>\n",
              "      <td>0</td>\n",
              "      <td>0</td>\n",
              "      <td>0</td>\n",
              "      <td>0</td>\n",
              "      <td>0</td>\n",
              "      <td>0</td>\n",
              "      <td>0</td>\n",
              "    </tr>\n",
              "    <tr>\n",
              "      <th>10836</th>\n",
              "      <td>0.186506</td>\n",
              "      <td>5.0</td>\n",
              "      <td>38.0</td>\n",
              "      <td>53M</td>\n",
              "      <td>5000.0</td>\n",
              "      <td>Free</td>\n",
              "      <td>0.0001</td>\n",
              "      <td>Everyone</td>\n",
              "      <td>0</td>\n",
              "      <td>0</td>\n",
              "      <td>...</td>\n",
              "      <td>0</td>\n",
              "      <td>1</td>\n",
              "      <td>0</td>\n",
              "      <td>0</td>\n",
              "      <td>0</td>\n",
              "      <td>0</td>\n",
              "      <td>0</td>\n",
              "      <td>0</td>\n",
              "      <td>0</td>\n",
              "      <td>0</td>\n",
              "    </tr>\n",
              "    <tr>\n",
              "      <th>10837</th>\n",
              "      <td>0.186506</td>\n",
              "      <td>5.0</td>\n",
              "      <td>4.0</td>\n",
              "      <td>3.6M</td>\n",
              "      <td>100.0</td>\n",
              "      <td>Free</td>\n",
              "      <td>0.0001</td>\n",
              "      <td>Everyone</td>\n",
              "      <td>0</td>\n",
              "      <td>0</td>\n",
              "      <td>...</td>\n",
              "      <td>0</td>\n",
              "      <td>1</td>\n",
              "      <td>0</td>\n",
              "      <td>0</td>\n",
              "      <td>0</td>\n",
              "      <td>0</td>\n",
              "      <td>0</td>\n",
              "      <td>0</td>\n",
              "      <td>0</td>\n",
              "      <td>0</td>\n",
              "    </tr>\n",
              "    <tr>\n",
              "      <th>10839</th>\n",
              "      <td>0.019003</td>\n",
              "      <td>5.0</td>\n",
              "      <td>114.0</td>\n",
              "      <td>Varies with device</td>\n",
              "      <td>1000.0</td>\n",
              "      <td>Free</td>\n",
              "      <td>0.0001</td>\n",
              "      <td>Mature 17+</td>\n",
              "      <td>1</td>\n",
              "      <td>0</td>\n",
              "      <td>...</td>\n",
              "      <td>0</td>\n",
              "      <td>0</td>\n",
              "      <td>0</td>\n",
              "      <td>0</td>\n",
              "      <td>0</td>\n",
              "      <td>0</td>\n",
              "      <td>0</td>\n",
              "      <td>0</td>\n",
              "      <td>0</td>\n",
              "      <td>0</td>\n",
              "    </tr>\n",
              "    <tr>\n",
              "      <th>10840</th>\n",
              "      <td>0.033522</td>\n",
              "      <td>5.0</td>\n",
              "      <td>398307.0</td>\n",
              "      <td>19M</td>\n",
              "      <td>10000000.0</td>\n",
              "      <td>Free</td>\n",
              "      <td>0.0001</td>\n",
              "      <td>Everyone</td>\n",
              "      <td>0</td>\n",
              "      <td>0</td>\n",
              "      <td>...</td>\n",
              "      <td>0</td>\n",
              "      <td>0</td>\n",
              "      <td>0</td>\n",
              "      <td>0</td>\n",
              "      <td>0</td>\n",
              "      <td>0</td>\n",
              "      <td>0</td>\n",
              "      <td>0</td>\n",
              "      <td>0</td>\n",
              "      <td>0</td>\n",
              "    </tr>\n",
              "  </tbody>\n",
              "</table>\n",
              "<p>9367 rows × 61 columns</p>\n",
              "</div>\n",
              "      <button class=\"colab-df-convert\" onclick=\"convertToInteractive('df-fd6b1dfe-8877-47c2-8d55-2c9458a6b373')\"\n",
              "              title=\"Convert this dataframe to an interactive table.\"\n",
              "              style=\"display:none;\">\n",
              "\n",
              "  <svg xmlns=\"http://www.w3.org/2000/svg\" height=\"24px\"viewBox=\"0 0 24 24\"\n",
              "       width=\"24px\">\n",
              "    <path d=\"M0 0h24v24H0V0z\" fill=\"none\"/>\n",
              "    <path d=\"M18.56 5.44l.94 2.06.94-2.06 2.06-.94-2.06-.94-.94-2.06-.94 2.06-2.06.94zm-11 1L8.5 8.5l.94-2.06 2.06-.94-2.06-.94L8.5 2.5l-.94 2.06-2.06.94zm10 10l.94 2.06.94-2.06 2.06-.94-2.06-.94-.94-2.06-.94 2.06-2.06.94z\"/><path d=\"M17.41 7.96l-1.37-1.37c-.4-.4-.92-.59-1.43-.59-.52 0-1.04.2-1.43.59L10.3 9.45l-7.72 7.72c-.78.78-.78 2.05 0 2.83L4 21.41c.39.39.9.59 1.41.59.51 0 1.02-.2 1.41-.59l7.78-7.78 2.81-2.81c.8-.78.8-2.07 0-2.86zM5.41 20L4 18.59l7.72-7.72 1.47 1.35L5.41 20z\"/>\n",
              "  </svg>\n",
              "      </button>\n",
              "\n",
              "\n",
              "\n",
              "    <div id=\"df-ff2648c2-77a8-4b0e-bbdc-40d60214f8e3\">\n",
              "      <button class=\"colab-df-quickchart\" onclick=\"quickchart('df-ff2648c2-77a8-4b0e-bbdc-40d60214f8e3')\"\n",
              "              title=\"Suggest charts.\"\n",
              "              style=\"display:none;\">\n",
              "\n",
              "<svg xmlns=\"http://www.w3.org/2000/svg\" height=\"24px\"viewBox=\"0 0 24 24\"\n",
              "     width=\"24px\">\n",
              "    <g>\n",
              "        <path d=\"M19 3H5c-1.1 0-2 .9-2 2v14c0 1.1.9 2 2 2h14c1.1 0 2-.9 2-2V5c0-1.1-.9-2-2-2zM9 17H7v-7h2v7zm4 0h-2V7h2v10zm4 0h-2v-4h2v4z\"/>\n",
              "    </g>\n",
              "</svg>\n",
              "      </button>\n",
              "    </div>\n",
              "\n",
              "<style>\n",
              "  .colab-df-quickchart {\n",
              "    background-color: #E8F0FE;\n",
              "    border: none;\n",
              "    border-radius: 50%;\n",
              "    cursor: pointer;\n",
              "    display: none;\n",
              "    fill: #1967D2;\n",
              "    height: 32px;\n",
              "    padding: 0 0 0 0;\n",
              "    width: 32px;\n",
              "  }\n",
              "\n",
              "  .colab-df-quickchart:hover {\n",
              "    background-color: #E2EBFA;\n",
              "    box-shadow: 0px 1px 2px rgba(60, 64, 67, 0.3), 0px 1px 3px 1px rgba(60, 64, 67, 0.15);\n",
              "    fill: #174EA6;\n",
              "  }\n",
              "\n",
              "  [theme=dark] .colab-df-quickchart {\n",
              "    background-color: #3B4455;\n",
              "    fill: #D2E3FC;\n",
              "  }\n",
              "\n",
              "  [theme=dark] .colab-df-quickchart:hover {\n",
              "    background-color: #434B5C;\n",
              "    box-shadow: 0px 1px 3px 1px rgba(0, 0, 0, 0.15);\n",
              "    filter: drop-shadow(0px 1px 2px rgba(0, 0, 0, 0.3));\n",
              "    fill: #FFFFFF;\n",
              "  }\n",
              "</style>\n",
              "\n",
              "    <script>\n",
              "      async function quickchart(key) {\n",
              "        const containerElement = document.querySelector('#' + key);\n",
              "        const charts = await google.colab.kernel.invokeFunction(\n",
              "            'suggestCharts', [key], {});\n",
              "      }\n",
              "    </script>\n",
              "\n",
              "      <script>\n",
              "\n",
              "function displayQuickchartButton(domScope) {\n",
              "  let quickchartButtonEl =\n",
              "    domScope.querySelector('#df-ff2648c2-77a8-4b0e-bbdc-40d60214f8e3 button.colab-df-quickchart');\n",
              "  quickchartButtonEl.style.display =\n",
              "    google.colab.kernel.accessAllowed ? 'block' : 'none';\n",
              "}\n",
              "\n",
              "        displayQuickchartButton(document);\n",
              "      </script>\n",
              "      <style>\n",
              "    .colab-df-container {\n",
              "      display:flex;\n",
              "      flex-wrap:wrap;\n",
              "      gap: 12px;\n",
              "    }\n",
              "\n",
              "    .colab-df-convert {\n",
              "      background-color: #E8F0FE;\n",
              "      border: none;\n",
              "      border-radius: 50%;\n",
              "      cursor: pointer;\n",
              "      display: none;\n",
              "      fill: #1967D2;\n",
              "      height: 32px;\n",
              "      padding: 0 0 0 0;\n",
              "      width: 32px;\n",
              "    }\n",
              "\n",
              "    .colab-df-convert:hover {\n",
              "      background-color: #E2EBFA;\n",
              "      box-shadow: 0px 1px 2px rgba(60, 64, 67, 0.3), 0px 1px 3px 1px rgba(60, 64, 67, 0.15);\n",
              "      fill: #174EA6;\n",
              "    }\n",
              "\n",
              "    [theme=dark] .colab-df-convert {\n",
              "      background-color: #3B4455;\n",
              "      fill: #D2E3FC;\n",
              "    }\n",
              "\n",
              "    [theme=dark] .colab-df-convert:hover {\n",
              "      background-color: #434B5C;\n",
              "      box-shadow: 0px 1px 3px 1px rgba(0, 0, 0, 0.15);\n",
              "      filter: drop-shadow(0px 1px 2px rgba(0, 0, 0, 0.3));\n",
              "      fill: #FFFFFF;\n",
              "    }\n",
              "  </style>\n",
              "\n",
              "      <script>\n",
              "        const buttonEl =\n",
              "          document.querySelector('#df-fd6b1dfe-8877-47c2-8d55-2c9458a6b373 button.colab-df-convert');\n",
              "        buttonEl.style.display =\n",
              "          google.colab.kernel.accessAllowed ? 'block' : 'none';\n",
              "\n",
              "        async function convertToInteractive(key) {\n",
              "          const element = document.querySelector('#df-fd6b1dfe-8877-47c2-8d55-2c9458a6b373');\n",
              "          const dataTable =\n",
              "            await google.colab.kernel.invokeFunction('convertToInteractive',\n",
              "                                                     [key], {});\n",
              "          if (!dataTable) return;\n",
              "\n",
              "          const docLinkHtml = 'Like what you see? Visit the ' +\n",
              "            '<a target=\"_blank\" href=https://colab.research.google.com/notebooks/data_table.ipynb>data table notebook</a>'\n",
              "            + ' to learn more about interactive tables.';\n",
              "          element.innerHTML = '';\n",
              "          dataTable['output_type'] = 'display_data';\n",
              "          await google.colab.output.renderOutput(dataTable, element);\n",
              "          const docLink = document.createElement('div');\n",
              "          docLink.innerHTML = docLinkHtml;\n",
              "          element.appendChild(docLink);\n",
              "        }\n",
              "      </script>\n",
              "    </div>\n",
              "  </div>\n"
            ]
          },
          "metadata": {},
          "execution_count": 404
        }
      ]
    },
    {
      "cell_type": "markdown",
      "source": [
        "#### **Esta opción fue descartada ya que no mejoraba el modelo**\n",
        "#### Como son muchas columnas vamos a crear otra vez la columna genres pero con las frecuencias de los géneros, los que contenian varios se les sumarán las frecuencias de estos. Para ello reemplazaramos los 1 de las columnas por la suma de 1 que hay en toda la columna de cada genero y luego sumaremos todas las columnas de géneros en la columna Genres"
      ],
      "metadata": {
        "id": "yVTBUtuxxKzi"
      }
    },
    {
      "cell_type": "code",
      "source": [
        "# genres_set_2 #Variable con los nombres de las columnas\n",
        "\n",
        "# for genre in genres_set_2:\n",
        "#   frecuencia = play_store[genre].sum() #Obtenemos la frecuencia sumando los 1\n",
        "#   play_store[genre] = play_store[genre].replace(1, frecuencia) #Reemplazamos los 1 por la frecuencia"
      ],
      "metadata": {
        "id": "WVuRYK24mRLj"
      },
      "execution_count": 405,
      "outputs": []
    },
    {
      "cell_type": "code",
      "source": [
        "# play_store['Genres_Frequency'] = play_store[genres_set_2].sum(axis=1) #Sumamos todos los generos con sus frecuencias en una única columna\n",
        "# play_store = play_store.drop(columns=genres_set_2, axis=1) #Borramos las columnas\n",
        "# play_store.info()"
      ],
      "metadata": {
        "id": "-xorGuhZr8Y6"
      },
      "execution_count": 406,
      "outputs": []
    },
    {
      "cell_type": "code",
      "source": [
        "# play_store['Genres_Frequency'].value_counts()"
      ],
      "metadata": {
        "id": "Ea341ni0rLZ4"
      },
      "execution_count": 407,
      "outputs": []
    },
    {
      "cell_type": "markdown",
      "source": [
        "#### De primeras podemos pensar que está mal hecho ya que si estamos viendo su valor que eran las frecuencias y su frecuencia deberián de ser iguales, pero no es así ya que había valores que tenían varios generos y hemos sumado las frecuencias de estos dos géneros"
      ],
      "metadata": {
        "id": "UwBIcRSY019h"
      }
    },
    {
      "cell_type": "markdown",
      "source": [
        "# 8º Vamos con la columna Size"
      ],
      "metadata": {
        "id": "kC4GkYop9zhT"
      }
    },
    {
      "cell_type": "code",
      "source": [
        "play_store['Size'].value_counts()"
      ],
      "metadata": {
        "colab": {
          "base_uri": "https://localhost:8080/"
        },
        "id": "Aa-N5993-AIa",
        "outputId": "ef79884c-c10c-42bd-89b1-d490c7847640"
      },
      "execution_count": 408,
      "outputs": [
        {
          "output_type": "execute_result",
          "data": {
            "text/plain": [
              "Varies with device    1637\n",
              "14M                    166\n",
              "12M                    161\n",
              "11M                    160\n",
              "15M                    159\n",
              "                      ... \n",
              "383k                     1\n",
              "454k                     1\n",
              "812k                     1\n",
              "442k                     1\n",
              "619k                     1\n",
              "Name: Size, Length: 415, dtype: int64"
            ]
          },
          "metadata": {},
          "execution_count": 408
        }
      ]
    },
    {
      "cell_type": "markdown",
      "source": [
        "#### Como los datos están en megabyte y kilobyte los vamos a pasar a la misma medida kilobyte quitandole la M y la K"
      ],
      "metadata": {
        "id": "rHO0lKQUCgOx"
      }
    },
    {
      "cell_type": "code",
      "source": [
        "play_store['Size'] = play_store['Size'].replace(\"M\", \"000\",regex=True)\n",
        "play_store['Size'] = play_store['Size'].replace(\"k\", \"\",regex=True)\n",
        "play_store['Size'] = play_store['Size'].replace(\"\\+\", \"\",regex=True)\n",
        "play_store['Size'] = play_store['Size'].replace(\",\", \"\",regex=True)\n",
        "play_store['Size'] = play_store['Size'].replace(\"Varies with device\", np.nan,regex=True)\n",
        "\n",
        "\n",
        "play_store['Size'] = play_store['Size'].astype(float)"
      ],
      "metadata": {
        "id": "K_RVeUrIA69F"
      },
      "execution_count": 409,
      "outputs": []
    },
    {
      "cell_type": "markdown",
      "source": [
        "#### Completamos los nulos creados antes con la media"
      ],
      "metadata": {
        "id": "5t-NSCopKqdR"
      }
    },
    {
      "cell_type": "code",
      "source": [
        "# calcula la media de la columna\n",
        "mean = play_store['Size'].mean()\n",
        "\n",
        "# completa los valores nulos con la media\n",
        "play_store['Size'] = play_store['Size'].fillna(mean)"
      ],
      "metadata": {
        "id": "LIpBqE-dKqr4"
      },
      "execution_count": 410,
      "outputs": []
    },
    {
      "cell_type": "markdown",
      "source": [
        "# 9º Hacemos el onehotencoder a las columnas Type y Content Rating"
      ],
      "metadata": {
        "id": "FXR3IsrM2wPi"
      }
    },
    {
      "cell_type": "code",
      "source": [
        "# aplicamos la función get_dummies() a las columnas seleccionadas\n",
        "encoded_df = pd.get_dummies(play_store[['Type','Content Rating']])\n",
        "\n",
        "# combinamos el DataFrame original con el DataFrame codificado\n",
        "play_store_encoded = pd.concat([play_store, encoded_df], axis=1)\n",
        "\n",
        "# eliminamos las columnas originales que ya fueron codificadas\n",
        "play_store = play_store_encoded.drop(['Type','Content Rating'], axis=1)\n",
        "play_store"
      ],
      "metadata": {
        "colab": {
          "base_uri": "https://localhost:8080/",
          "height": 0
        },
        "id": "JGIKfqM55Djc",
        "outputId": "e2c23688-11c4-4a57-cee0-708532f1f847"
      },
      "execution_count": 411,
      "outputs": [
        {
          "output_type": "execute_result",
          "data": {
            "text/plain": [
              "       Category  Rating   Reviews          Size    Installs   Price  \\\n",
              "0      0.006619     4.0     159.0  19000.000000     10000.0  0.0001   \n",
              "1      0.006619     4.0     967.0  14000.000000    500000.0  0.0001   \n",
              "2      0.006619     5.0   87510.0      8.700000   5000000.0  0.0001   \n",
              "3      0.006619     5.0  215644.0  25000.000000  50000000.0  0.0001   \n",
              "4      0.006619     4.0     967.0      2.800000    100000.0  0.0001   \n",
              "...         ...     ...       ...           ...         ...     ...   \n",
              "10834  0.186506     4.0       7.0      2.600000       500.0  0.0001   \n",
              "10836  0.186506     5.0      38.0  53000.000000      5000.0  0.0001   \n",
              "10837  0.186506     5.0       4.0      3.600000       100.0  0.0001   \n",
              "10839  0.019003     5.0     114.0  21088.652393      1000.0  0.0001   \n",
              "10840  0.033522     5.0  398307.0  19000.000000  10000000.0  0.0001   \n",
              "\n",
              "       Books & Reference  Casino  Shopping  Strategy  ...  Weather  Action  \\\n",
              "0                      0       0         0         0  ...        0       0   \n",
              "1                      0       0         0         0  ...        0       0   \n",
              "2                      0       0         0         0  ...        0       0   \n",
              "3                      0       0         0         0  ...        0       0   \n",
              "4                      0       0         0         0  ...        0       0   \n",
              "...                  ...     ...       ...       ...  ...      ...     ...   \n",
              "10834                  0       0         0         0  ...        0       0   \n",
              "10836                  0       0         0         0  ...        0       0   \n",
              "10837                  0       0         0         0  ...        0       0   \n",
              "10839                  1       0         0         0  ...        0       0   \n",
              "10840                  0       0         0         0  ...        0       0   \n",
              "\n",
              "       Events  Type_Free  Type_Paid  Content Rating_Adults only 18+  \\\n",
              "0           0          1          0                               0   \n",
              "1           0          1          0                               0   \n",
              "2           0          1          0                               0   \n",
              "3           0          1          0                               0   \n",
              "4           0          1          0                               0   \n",
              "...       ...        ...        ...                             ...   \n",
              "10834       0          1          0                               0   \n",
              "10836       0          1          0                               0   \n",
              "10837       0          1          0                               0   \n",
              "10839       0          1          0                               0   \n",
              "10840       0          1          0                               0   \n",
              "\n",
              "       Content Rating_Everyone  Content Rating_Everyone 10+  \\\n",
              "0                            1                            0   \n",
              "1                            1                            0   \n",
              "2                            1                            0   \n",
              "3                            0                            0   \n",
              "4                            1                            0   \n",
              "...                        ...                          ...   \n",
              "10834                        1                            0   \n",
              "10836                        1                            0   \n",
              "10837                        1                            0   \n",
              "10839                        0                            0   \n",
              "10840                        1                            0   \n",
              "\n",
              "       Content Rating_Mature 17+  Content Rating_Teen  \n",
              "0                              0                    0  \n",
              "1                              0                    0  \n",
              "2                              0                    0  \n",
              "3                              0                    1  \n",
              "4                              0                    0  \n",
              "...                          ...                  ...  \n",
              "10834                          0                    0  \n",
              "10836                          0                    0  \n",
              "10837                          0                    0  \n",
              "10839                          1                    0  \n",
              "10840                          0                    0  \n",
              "\n",
              "[9367 rows x 66 columns]"
            ],
            "text/html": [
              "\n",
              "\n",
              "  <div id=\"df-018c173a-66d8-4fb3-88d7-ac04259e632e\">\n",
              "    <div class=\"colab-df-container\">\n",
              "      <div>\n",
              "<style scoped>\n",
              "    .dataframe tbody tr th:only-of-type {\n",
              "        vertical-align: middle;\n",
              "    }\n",
              "\n",
              "    .dataframe tbody tr th {\n",
              "        vertical-align: top;\n",
              "    }\n",
              "\n",
              "    .dataframe thead th {\n",
              "        text-align: right;\n",
              "    }\n",
              "</style>\n",
              "<table border=\"1\" class=\"dataframe\">\n",
              "  <thead>\n",
              "    <tr style=\"text-align: right;\">\n",
              "      <th></th>\n",
              "      <th>Category</th>\n",
              "      <th>Rating</th>\n",
              "      <th>Reviews</th>\n",
              "      <th>Size</th>\n",
              "      <th>Installs</th>\n",
              "      <th>Price</th>\n",
              "      <th>Books &amp; Reference</th>\n",
              "      <th>Casino</th>\n",
              "      <th>Shopping</th>\n",
              "      <th>Strategy</th>\n",
              "      <th>...</th>\n",
              "      <th>Weather</th>\n",
              "      <th>Action</th>\n",
              "      <th>Events</th>\n",
              "      <th>Type_Free</th>\n",
              "      <th>Type_Paid</th>\n",
              "      <th>Content Rating_Adults only 18+</th>\n",
              "      <th>Content Rating_Everyone</th>\n",
              "      <th>Content Rating_Everyone 10+</th>\n",
              "      <th>Content Rating_Mature 17+</th>\n",
              "      <th>Content Rating_Teen</th>\n",
              "    </tr>\n",
              "  </thead>\n",
              "  <tbody>\n",
              "    <tr>\n",
              "      <th>0</th>\n",
              "      <td>0.006619</td>\n",
              "      <td>4.0</td>\n",
              "      <td>159.0</td>\n",
              "      <td>19000.000000</td>\n",
              "      <td>10000.0</td>\n",
              "      <td>0.0001</td>\n",
              "      <td>0</td>\n",
              "      <td>0</td>\n",
              "      <td>0</td>\n",
              "      <td>0</td>\n",
              "      <td>...</td>\n",
              "      <td>0</td>\n",
              "      <td>0</td>\n",
              "      <td>0</td>\n",
              "      <td>1</td>\n",
              "      <td>0</td>\n",
              "      <td>0</td>\n",
              "      <td>1</td>\n",
              "      <td>0</td>\n",
              "      <td>0</td>\n",
              "      <td>0</td>\n",
              "    </tr>\n",
              "    <tr>\n",
              "      <th>1</th>\n",
              "      <td>0.006619</td>\n",
              "      <td>4.0</td>\n",
              "      <td>967.0</td>\n",
              "      <td>14000.000000</td>\n",
              "      <td>500000.0</td>\n",
              "      <td>0.0001</td>\n",
              "      <td>0</td>\n",
              "      <td>0</td>\n",
              "      <td>0</td>\n",
              "      <td>0</td>\n",
              "      <td>...</td>\n",
              "      <td>0</td>\n",
              "      <td>0</td>\n",
              "      <td>0</td>\n",
              "      <td>1</td>\n",
              "      <td>0</td>\n",
              "      <td>0</td>\n",
              "      <td>1</td>\n",
              "      <td>0</td>\n",
              "      <td>0</td>\n",
              "      <td>0</td>\n",
              "    </tr>\n",
              "    <tr>\n",
              "      <th>2</th>\n",
              "      <td>0.006619</td>\n",
              "      <td>5.0</td>\n",
              "      <td>87510.0</td>\n",
              "      <td>8.700000</td>\n",
              "      <td>5000000.0</td>\n",
              "      <td>0.0001</td>\n",
              "      <td>0</td>\n",
              "      <td>0</td>\n",
              "      <td>0</td>\n",
              "      <td>0</td>\n",
              "      <td>...</td>\n",
              "      <td>0</td>\n",
              "      <td>0</td>\n",
              "      <td>0</td>\n",
              "      <td>1</td>\n",
              "      <td>0</td>\n",
              "      <td>0</td>\n",
              "      <td>1</td>\n",
              "      <td>0</td>\n",
              "      <td>0</td>\n",
              "      <td>0</td>\n",
              "    </tr>\n",
              "    <tr>\n",
              "      <th>3</th>\n",
              "      <td>0.006619</td>\n",
              "      <td>5.0</td>\n",
              "      <td>215644.0</td>\n",
              "      <td>25000.000000</td>\n",
              "      <td>50000000.0</td>\n",
              "      <td>0.0001</td>\n",
              "      <td>0</td>\n",
              "      <td>0</td>\n",
              "      <td>0</td>\n",
              "      <td>0</td>\n",
              "      <td>...</td>\n",
              "      <td>0</td>\n",
              "      <td>0</td>\n",
              "      <td>0</td>\n",
              "      <td>1</td>\n",
              "      <td>0</td>\n",
              "      <td>0</td>\n",
              "      <td>0</td>\n",
              "      <td>0</td>\n",
              "      <td>0</td>\n",
              "      <td>1</td>\n",
              "    </tr>\n",
              "    <tr>\n",
              "      <th>4</th>\n",
              "      <td>0.006619</td>\n",
              "      <td>4.0</td>\n",
              "      <td>967.0</td>\n",
              "      <td>2.800000</td>\n",
              "      <td>100000.0</td>\n",
              "      <td>0.0001</td>\n",
              "      <td>0</td>\n",
              "      <td>0</td>\n",
              "      <td>0</td>\n",
              "      <td>0</td>\n",
              "      <td>...</td>\n",
              "      <td>0</td>\n",
              "      <td>0</td>\n",
              "      <td>0</td>\n",
              "      <td>1</td>\n",
              "      <td>0</td>\n",
              "      <td>0</td>\n",
              "      <td>1</td>\n",
              "      <td>0</td>\n",
              "      <td>0</td>\n",
              "      <td>0</td>\n",
              "    </tr>\n",
              "    <tr>\n",
              "      <th>...</th>\n",
              "      <td>...</td>\n",
              "      <td>...</td>\n",
              "      <td>...</td>\n",
              "      <td>...</td>\n",
              "      <td>...</td>\n",
              "      <td>...</td>\n",
              "      <td>...</td>\n",
              "      <td>...</td>\n",
              "      <td>...</td>\n",
              "      <td>...</td>\n",
              "      <td>...</td>\n",
              "      <td>...</td>\n",
              "      <td>...</td>\n",
              "      <td>...</td>\n",
              "      <td>...</td>\n",
              "      <td>...</td>\n",
              "      <td>...</td>\n",
              "      <td>...</td>\n",
              "      <td>...</td>\n",
              "      <td>...</td>\n",
              "      <td>...</td>\n",
              "    </tr>\n",
              "    <tr>\n",
              "      <th>10834</th>\n",
              "      <td>0.186506</td>\n",
              "      <td>4.0</td>\n",
              "      <td>7.0</td>\n",
              "      <td>2.600000</td>\n",
              "      <td>500.0</td>\n",
              "      <td>0.0001</td>\n",
              "      <td>0</td>\n",
              "      <td>0</td>\n",
              "      <td>0</td>\n",
              "      <td>0</td>\n",
              "      <td>...</td>\n",
              "      <td>0</td>\n",
              "      <td>0</td>\n",
              "      <td>0</td>\n",
              "      <td>1</td>\n",
              "      <td>0</td>\n",
              "      <td>0</td>\n",
              "      <td>1</td>\n",
              "      <td>0</td>\n",
              "      <td>0</td>\n",
              "      <td>0</td>\n",
              "    </tr>\n",
              "    <tr>\n",
              "      <th>10836</th>\n",
              "      <td>0.186506</td>\n",
              "      <td>5.0</td>\n",
              "      <td>38.0</td>\n",
              "      <td>53000.000000</td>\n",
              "      <td>5000.0</td>\n",
              "      <td>0.0001</td>\n",
              "      <td>0</td>\n",
              "      <td>0</td>\n",
              "      <td>0</td>\n",
              "      <td>0</td>\n",
              "      <td>...</td>\n",
              "      <td>0</td>\n",
              "      <td>0</td>\n",
              "      <td>0</td>\n",
              "      <td>1</td>\n",
              "      <td>0</td>\n",
              "      <td>0</td>\n",
              "      <td>1</td>\n",
              "      <td>0</td>\n",
              "      <td>0</td>\n",
              "      <td>0</td>\n",
              "    </tr>\n",
              "    <tr>\n",
              "      <th>10837</th>\n",
              "      <td>0.186506</td>\n",
              "      <td>5.0</td>\n",
              "      <td>4.0</td>\n",
              "      <td>3.600000</td>\n",
              "      <td>100.0</td>\n",
              "      <td>0.0001</td>\n",
              "      <td>0</td>\n",
              "      <td>0</td>\n",
              "      <td>0</td>\n",
              "      <td>0</td>\n",
              "      <td>...</td>\n",
              "      <td>0</td>\n",
              "      <td>0</td>\n",
              "      <td>0</td>\n",
              "      <td>1</td>\n",
              "      <td>0</td>\n",
              "      <td>0</td>\n",
              "      <td>1</td>\n",
              "      <td>0</td>\n",
              "      <td>0</td>\n",
              "      <td>0</td>\n",
              "    </tr>\n",
              "    <tr>\n",
              "      <th>10839</th>\n",
              "      <td>0.019003</td>\n",
              "      <td>5.0</td>\n",
              "      <td>114.0</td>\n",
              "      <td>21088.652393</td>\n",
              "      <td>1000.0</td>\n",
              "      <td>0.0001</td>\n",
              "      <td>1</td>\n",
              "      <td>0</td>\n",
              "      <td>0</td>\n",
              "      <td>0</td>\n",
              "      <td>...</td>\n",
              "      <td>0</td>\n",
              "      <td>0</td>\n",
              "      <td>0</td>\n",
              "      <td>1</td>\n",
              "      <td>0</td>\n",
              "      <td>0</td>\n",
              "      <td>0</td>\n",
              "      <td>0</td>\n",
              "      <td>1</td>\n",
              "      <td>0</td>\n",
              "    </tr>\n",
              "    <tr>\n",
              "      <th>10840</th>\n",
              "      <td>0.033522</td>\n",
              "      <td>5.0</td>\n",
              "      <td>398307.0</td>\n",
              "      <td>19000.000000</td>\n",
              "      <td>10000000.0</td>\n",
              "      <td>0.0001</td>\n",
              "      <td>0</td>\n",
              "      <td>0</td>\n",
              "      <td>0</td>\n",
              "      <td>0</td>\n",
              "      <td>...</td>\n",
              "      <td>0</td>\n",
              "      <td>0</td>\n",
              "      <td>0</td>\n",
              "      <td>1</td>\n",
              "      <td>0</td>\n",
              "      <td>0</td>\n",
              "      <td>1</td>\n",
              "      <td>0</td>\n",
              "      <td>0</td>\n",
              "      <td>0</td>\n",
              "    </tr>\n",
              "  </tbody>\n",
              "</table>\n",
              "<p>9367 rows × 66 columns</p>\n",
              "</div>\n",
              "      <button class=\"colab-df-convert\" onclick=\"convertToInteractive('df-018c173a-66d8-4fb3-88d7-ac04259e632e')\"\n",
              "              title=\"Convert this dataframe to an interactive table.\"\n",
              "              style=\"display:none;\">\n",
              "\n",
              "  <svg xmlns=\"http://www.w3.org/2000/svg\" height=\"24px\"viewBox=\"0 0 24 24\"\n",
              "       width=\"24px\">\n",
              "    <path d=\"M0 0h24v24H0V0z\" fill=\"none\"/>\n",
              "    <path d=\"M18.56 5.44l.94 2.06.94-2.06 2.06-.94-2.06-.94-.94-2.06-.94 2.06-2.06.94zm-11 1L8.5 8.5l.94-2.06 2.06-.94-2.06-.94L8.5 2.5l-.94 2.06-2.06.94zm10 10l.94 2.06.94-2.06 2.06-.94-2.06-.94-.94-2.06-.94 2.06-2.06.94z\"/><path d=\"M17.41 7.96l-1.37-1.37c-.4-.4-.92-.59-1.43-.59-.52 0-1.04.2-1.43.59L10.3 9.45l-7.72 7.72c-.78.78-.78 2.05 0 2.83L4 21.41c.39.39.9.59 1.41.59.51 0 1.02-.2 1.41-.59l7.78-7.78 2.81-2.81c.8-.78.8-2.07 0-2.86zM5.41 20L4 18.59l7.72-7.72 1.47 1.35L5.41 20z\"/>\n",
              "  </svg>\n",
              "      </button>\n",
              "\n",
              "\n",
              "\n",
              "    <div id=\"df-fd6128ef-411a-4b5a-9b99-dd874275823a\">\n",
              "      <button class=\"colab-df-quickchart\" onclick=\"quickchart('df-fd6128ef-411a-4b5a-9b99-dd874275823a')\"\n",
              "              title=\"Suggest charts.\"\n",
              "              style=\"display:none;\">\n",
              "\n",
              "<svg xmlns=\"http://www.w3.org/2000/svg\" height=\"24px\"viewBox=\"0 0 24 24\"\n",
              "     width=\"24px\">\n",
              "    <g>\n",
              "        <path d=\"M19 3H5c-1.1 0-2 .9-2 2v14c0 1.1.9 2 2 2h14c1.1 0 2-.9 2-2V5c0-1.1-.9-2-2-2zM9 17H7v-7h2v7zm4 0h-2V7h2v10zm4 0h-2v-4h2v4z\"/>\n",
              "    </g>\n",
              "</svg>\n",
              "      </button>\n",
              "    </div>\n",
              "\n",
              "<style>\n",
              "  .colab-df-quickchart {\n",
              "    background-color: #E8F0FE;\n",
              "    border: none;\n",
              "    border-radius: 50%;\n",
              "    cursor: pointer;\n",
              "    display: none;\n",
              "    fill: #1967D2;\n",
              "    height: 32px;\n",
              "    padding: 0 0 0 0;\n",
              "    width: 32px;\n",
              "  }\n",
              "\n",
              "  .colab-df-quickchart:hover {\n",
              "    background-color: #E2EBFA;\n",
              "    box-shadow: 0px 1px 2px rgba(60, 64, 67, 0.3), 0px 1px 3px 1px rgba(60, 64, 67, 0.15);\n",
              "    fill: #174EA6;\n",
              "  }\n",
              "\n",
              "  [theme=dark] .colab-df-quickchart {\n",
              "    background-color: #3B4455;\n",
              "    fill: #D2E3FC;\n",
              "  }\n",
              "\n",
              "  [theme=dark] .colab-df-quickchart:hover {\n",
              "    background-color: #434B5C;\n",
              "    box-shadow: 0px 1px 3px 1px rgba(0, 0, 0, 0.15);\n",
              "    filter: drop-shadow(0px 1px 2px rgba(0, 0, 0, 0.3));\n",
              "    fill: #FFFFFF;\n",
              "  }\n",
              "</style>\n",
              "\n",
              "    <script>\n",
              "      async function quickchart(key) {\n",
              "        const containerElement = document.querySelector('#' + key);\n",
              "        const charts = await google.colab.kernel.invokeFunction(\n",
              "            'suggestCharts', [key], {});\n",
              "      }\n",
              "    </script>\n",
              "\n",
              "      <script>\n",
              "\n",
              "function displayQuickchartButton(domScope) {\n",
              "  let quickchartButtonEl =\n",
              "    domScope.querySelector('#df-fd6128ef-411a-4b5a-9b99-dd874275823a button.colab-df-quickchart');\n",
              "  quickchartButtonEl.style.display =\n",
              "    google.colab.kernel.accessAllowed ? 'block' : 'none';\n",
              "}\n",
              "\n",
              "        displayQuickchartButton(document);\n",
              "      </script>\n",
              "      <style>\n",
              "    .colab-df-container {\n",
              "      display:flex;\n",
              "      flex-wrap:wrap;\n",
              "      gap: 12px;\n",
              "    }\n",
              "\n",
              "    .colab-df-convert {\n",
              "      background-color: #E8F0FE;\n",
              "      border: none;\n",
              "      border-radius: 50%;\n",
              "      cursor: pointer;\n",
              "      display: none;\n",
              "      fill: #1967D2;\n",
              "      height: 32px;\n",
              "      padding: 0 0 0 0;\n",
              "      width: 32px;\n",
              "    }\n",
              "\n",
              "    .colab-df-convert:hover {\n",
              "      background-color: #E2EBFA;\n",
              "      box-shadow: 0px 1px 2px rgba(60, 64, 67, 0.3), 0px 1px 3px 1px rgba(60, 64, 67, 0.15);\n",
              "      fill: #174EA6;\n",
              "    }\n",
              "\n",
              "    [theme=dark] .colab-df-convert {\n",
              "      background-color: #3B4455;\n",
              "      fill: #D2E3FC;\n",
              "    }\n",
              "\n",
              "    [theme=dark] .colab-df-convert:hover {\n",
              "      background-color: #434B5C;\n",
              "      box-shadow: 0px 1px 3px 1px rgba(0, 0, 0, 0.15);\n",
              "      filter: drop-shadow(0px 1px 2px rgba(0, 0, 0, 0.3));\n",
              "      fill: #FFFFFF;\n",
              "    }\n",
              "  </style>\n",
              "\n",
              "      <script>\n",
              "        const buttonEl =\n",
              "          document.querySelector('#df-018c173a-66d8-4fb3-88d7-ac04259e632e button.colab-df-convert');\n",
              "        buttonEl.style.display =\n",
              "          google.colab.kernel.accessAllowed ? 'block' : 'none';\n",
              "\n",
              "        async function convertToInteractive(key) {\n",
              "          const element = document.querySelector('#df-018c173a-66d8-4fb3-88d7-ac04259e632e');\n",
              "          const dataTable =\n",
              "            await google.colab.kernel.invokeFunction('convertToInteractive',\n",
              "                                                     [key], {});\n",
              "          if (!dataTable) return;\n",
              "\n",
              "          const docLinkHtml = 'Like what you see? Visit the ' +\n",
              "            '<a target=\"_blank\" href=https://colab.research.google.com/notebooks/data_table.ipynb>data table notebook</a>'\n",
              "            + ' to learn more about interactive tables.';\n",
              "          element.innerHTML = '';\n",
              "          dataTable['output_type'] = 'display_data';\n",
              "          await google.colab.output.renderOutput(dataTable, element);\n",
              "          const docLink = document.createElement('div');\n",
              "          docLink.innerHTML = docLinkHtml;\n",
              "          element.appendChild(docLink);\n",
              "        }\n",
              "      </script>\n",
              "    </div>\n",
              "  </div>\n"
            ]
          },
          "metadata": {},
          "execution_count": 411
        }
      ]
    },
    {
      "cell_type": "markdown",
      "source": [
        "## Vemos como queda el Dataframe"
      ],
      "metadata": {
        "id": "14XV5u609KV8"
      }
    },
    {
      "cell_type": "code",
      "source": [
        "play_store.info()"
      ],
      "metadata": {
        "colab": {
          "base_uri": "https://localhost:8080/"
        },
        "id": "UXrA9UhH9JVN",
        "outputId": "d83ccc21-5fec-4707-895b-fc38f4075ea6"
      },
      "execution_count": 412,
      "outputs": [
        {
          "output_type": "stream",
          "name": "stdout",
          "text": [
            "<class 'pandas.core.frame.DataFrame'>\n",
            "Int64Index: 9367 entries, 0 to 10840\n",
            "Data columns (total 66 columns):\n",
            " #   Column                          Non-Null Count  Dtype  \n",
            "---  ------                          --------------  -----  \n",
            " 0   Category                        9367 non-null   float64\n",
            " 1   Rating                          9367 non-null   float64\n",
            " 2   Reviews                         9367 non-null   float64\n",
            " 3   Size                            9367 non-null   float64\n",
            " 4   Installs                        9367 non-null   float64\n",
            " 5   Price                           9367 non-null   float64\n",
            " 6   Books & Reference               9367 non-null   int64  \n",
            " 7   Casino                          9367 non-null   int64  \n",
            " 8   Shopping                        9367 non-null   int64  \n",
            " 9   Strategy                        9367 non-null   int64  \n",
            " 10  Health & Fitness                9367 non-null   int64  \n",
            " 11  Business                        9367 non-null   int64  \n",
            " 12  Art & Design                    9367 non-null   int64  \n",
            " 13  Parenting                       9367 non-null   int64  \n",
            " 14  Comics                          9367 non-null   int64  \n",
            " 15  Dating                          9367 non-null   int64  \n",
            " 16  Medical                         9367 non-null   int64  \n",
            " 17  Music & Audio                   9367 non-null   int64  \n",
            " 18  Productivity                    9367 non-null   int64  \n",
            " 19  Arcade                          9367 non-null   int64  \n",
            " 20  Casual                          9367 non-null   int64  \n",
            " 21  Video Players & Editors         9367 non-null   int64  \n",
            " 22  Social                          9367 non-null   int64  \n",
            " 23  Role Playing                    9367 non-null   int64  \n",
            " 24  Trivia                          9367 non-null   int64  \n",
            " 25  Music & Video                   9367 non-null   int64  \n",
            " 26  Photography                     9367 non-null   int64  \n",
            " 27  Racing                          9367 non-null   int64  \n",
            " 28  House & Home                    9367 non-null   int64  \n",
            " 29  Simulation                      9367 non-null   int64  \n",
            " 30  Action & Adventure              9367 non-null   int64  \n",
            " 31  Adventure                       9367 non-null   int64  \n",
            " 32  Lifestyle                       9367 non-null   int64  \n",
            " 33  Brain Games                     9367 non-null   int64  \n",
            " 34  Tools                           9367 non-null   int64  \n",
            " 35  Word                            9367 non-null   int64  \n",
            " 36  Board                           9367 non-null   int64  \n",
            " 37  Creativity                      9367 non-null   int64  \n",
            " 38  Entertainment                   9367 non-null   int64  \n",
            " 39  Sports                          9367 non-null   int64  \n",
            " 40  Communication                   9367 non-null   int64  \n",
            " 41  Personalization                 9367 non-null   int64  \n",
            " 42  Puzzle                          9367 non-null   int64  \n",
            " 43  Beauty                          9367 non-null   int64  \n",
            " 44  News & Magazines                9367 non-null   int64  \n",
            " 45  Card                            9367 non-null   int64  \n",
            " 46  Food & Drink                    9367 non-null   int64  \n",
            " 47  Maps & Navigation               9367 non-null   int64  \n",
            " 48  Finance                         9367 non-null   int64  \n",
            " 49  Travel & Local                  9367 non-null   int64  \n",
            " 50  Education                       9367 non-null   int64  \n",
            " 51  Music                           9367 non-null   int64  \n",
            " 52  Educational                     9367 non-null   int64  \n",
            " 53  Libraries & Demo                9367 non-null   int64  \n",
            " 54  Auto & Vehicles                 9367 non-null   int64  \n",
            " 55  Pretend Play                    9367 non-null   int64  \n",
            " 56  Weather                         9367 non-null   int64  \n",
            " 57  Action                          9367 non-null   int64  \n",
            " 58  Events                          9367 non-null   int64  \n",
            " 59  Type_Free                       9367 non-null   uint8  \n",
            " 60  Type_Paid                       9367 non-null   uint8  \n",
            " 61  Content Rating_Adults only 18+  9367 non-null   uint8  \n",
            " 62  Content Rating_Everyone         9367 non-null   uint8  \n",
            " 63  Content Rating_Everyone 10+     9367 non-null   uint8  \n",
            " 64  Content Rating_Mature 17+       9367 non-null   uint8  \n",
            " 65  Content Rating_Teen             9367 non-null   uint8  \n",
            "dtypes: float64(6), int64(53), uint8(7)\n",
            "memory usage: 4.6 MB\n"
          ]
        }
      ]
    },
    {
      "cell_type": "markdown",
      "source": [
        "# 10 º Intentamos buscar nuevas columnas combinando las que tenemos"
      ],
      "metadata": {
        "id": "o7Zu1DdgBwHZ"
      }
    },
    {
      "cell_type": "code",
      "source": [
        "play_store[\"Reviews*Installs\"] = play_store[\"Installs\"] * play_store[\"Reviews\"]\n",
        "play_store[\"Installs*Type_Paid\"] = play_store[\"Installs\"] * ( play_store[\"Type_Paid\"] + 1)"
      ],
      "metadata": {
        "id": "aMRiTtALB3i5"
      },
      "execution_count": 413,
      "outputs": []
    },
    {
      "cell_type": "markdown",
      "source": [
        "# Visualización del dataset"
      ],
      "metadata": {
        "id": "KADTclu9X7LC"
      }
    },
    {
      "cell_type": "code",
      "source": [
        "play_store.head()"
      ],
      "metadata": {
        "colab": {
          "base_uri": "https://localhost:8080/",
          "height": 0
        },
        "id": "wpWHjuhxZzLQ",
        "outputId": "816e2225-2f06-4959-abd1-ccc331c99827"
      },
      "execution_count": 414,
      "outputs": [
        {
          "output_type": "execute_result",
          "data": {
            "text/plain": [
              "   Category  Rating   Reviews     Size    Installs   Price  Books & Reference  \\\n",
              "0  0.006619     4.0     159.0  19000.0     10000.0  0.0001                  0   \n",
              "1  0.006619     4.0     967.0  14000.0    500000.0  0.0001                  0   \n",
              "2  0.006619     5.0   87510.0      8.7   5000000.0  0.0001                  0   \n",
              "3  0.006619     5.0  215644.0  25000.0  50000000.0  0.0001                  0   \n",
              "4  0.006619     4.0     967.0      2.8    100000.0  0.0001                  0   \n",
              "\n",
              "   Casino  Shopping  Strategy  ...  Events  Type_Free  Type_Paid  \\\n",
              "0       0         0         0  ...       0          1          0   \n",
              "1       0         0         0  ...       0          1          0   \n",
              "2       0         0         0  ...       0          1          0   \n",
              "3       0         0         0  ...       0          1          0   \n",
              "4       0         0         0  ...       0          1          0   \n",
              "\n",
              "   Content Rating_Adults only 18+  Content Rating_Everyone  \\\n",
              "0                               0                        1   \n",
              "1                               0                        1   \n",
              "2                               0                        1   \n",
              "3                               0                        0   \n",
              "4                               0                        1   \n",
              "\n",
              "   Content Rating_Everyone 10+  Content Rating_Mature 17+  \\\n",
              "0                            0                          0   \n",
              "1                            0                          0   \n",
              "2                            0                          0   \n",
              "3                            0                          0   \n",
              "4                            0                          0   \n",
              "\n",
              "   Content Rating_Teen  Reviews*Installs  Installs*Type_Paid  \n",
              "0                    0      1.590000e+06             10000.0  \n",
              "1                    0      4.835000e+08            500000.0  \n",
              "2                    0      4.375500e+11           5000000.0  \n",
              "3                    1      1.078220e+13          50000000.0  \n",
              "4                    0      9.670000e+07            100000.0  \n",
              "\n",
              "[5 rows x 68 columns]"
            ],
            "text/html": [
              "\n",
              "\n",
              "  <div id=\"df-22bd12c7-d4e6-4a11-8965-444938a1ab1a\">\n",
              "    <div class=\"colab-df-container\">\n",
              "      <div>\n",
              "<style scoped>\n",
              "    .dataframe tbody tr th:only-of-type {\n",
              "        vertical-align: middle;\n",
              "    }\n",
              "\n",
              "    .dataframe tbody tr th {\n",
              "        vertical-align: top;\n",
              "    }\n",
              "\n",
              "    .dataframe thead th {\n",
              "        text-align: right;\n",
              "    }\n",
              "</style>\n",
              "<table border=\"1\" class=\"dataframe\">\n",
              "  <thead>\n",
              "    <tr style=\"text-align: right;\">\n",
              "      <th></th>\n",
              "      <th>Category</th>\n",
              "      <th>Rating</th>\n",
              "      <th>Reviews</th>\n",
              "      <th>Size</th>\n",
              "      <th>Installs</th>\n",
              "      <th>Price</th>\n",
              "      <th>Books &amp; Reference</th>\n",
              "      <th>Casino</th>\n",
              "      <th>Shopping</th>\n",
              "      <th>Strategy</th>\n",
              "      <th>...</th>\n",
              "      <th>Events</th>\n",
              "      <th>Type_Free</th>\n",
              "      <th>Type_Paid</th>\n",
              "      <th>Content Rating_Adults only 18+</th>\n",
              "      <th>Content Rating_Everyone</th>\n",
              "      <th>Content Rating_Everyone 10+</th>\n",
              "      <th>Content Rating_Mature 17+</th>\n",
              "      <th>Content Rating_Teen</th>\n",
              "      <th>Reviews*Installs</th>\n",
              "      <th>Installs*Type_Paid</th>\n",
              "    </tr>\n",
              "  </thead>\n",
              "  <tbody>\n",
              "    <tr>\n",
              "      <th>0</th>\n",
              "      <td>0.006619</td>\n",
              "      <td>4.0</td>\n",
              "      <td>159.0</td>\n",
              "      <td>19000.0</td>\n",
              "      <td>10000.0</td>\n",
              "      <td>0.0001</td>\n",
              "      <td>0</td>\n",
              "      <td>0</td>\n",
              "      <td>0</td>\n",
              "      <td>0</td>\n",
              "      <td>...</td>\n",
              "      <td>0</td>\n",
              "      <td>1</td>\n",
              "      <td>0</td>\n",
              "      <td>0</td>\n",
              "      <td>1</td>\n",
              "      <td>0</td>\n",
              "      <td>0</td>\n",
              "      <td>0</td>\n",
              "      <td>1.590000e+06</td>\n",
              "      <td>10000.0</td>\n",
              "    </tr>\n",
              "    <tr>\n",
              "      <th>1</th>\n",
              "      <td>0.006619</td>\n",
              "      <td>4.0</td>\n",
              "      <td>967.0</td>\n",
              "      <td>14000.0</td>\n",
              "      <td>500000.0</td>\n",
              "      <td>0.0001</td>\n",
              "      <td>0</td>\n",
              "      <td>0</td>\n",
              "      <td>0</td>\n",
              "      <td>0</td>\n",
              "      <td>...</td>\n",
              "      <td>0</td>\n",
              "      <td>1</td>\n",
              "      <td>0</td>\n",
              "      <td>0</td>\n",
              "      <td>1</td>\n",
              "      <td>0</td>\n",
              "      <td>0</td>\n",
              "      <td>0</td>\n",
              "      <td>4.835000e+08</td>\n",
              "      <td>500000.0</td>\n",
              "    </tr>\n",
              "    <tr>\n",
              "      <th>2</th>\n",
              "      <td>0.006619</td>\n",
              "      <td>5.0</td>\n",
              "      <td>87510.0</td>\n",
              "      <td>8.7</td>\n",
              "      <td>5000000.0</td>\n",
              "      <td>0.0001</td>\n",
              "      <td>0</td>\n",
              "      <td>0</td>\n",
              "      <td>0</td>\n",
              "      <td>0</td>\n",
              "      <td>...</td>\n",
              "      <td>0</td>\n",
              "      <td>1</td>\n",
              "      <td>0</td>\n",
              "      <td>0</td>\n",
              "      <td>1</td>\n",
              "      <td>0</td>\n",
              "      <td>0</td>\n",
              "      <td>0</td>\n",
              "      <td>4.375500e+11</td>\n",
              "      <td>5000000.0</td>\n",
              "    </tr>\n",
              "    <tr>\n",
              "      <th>3</th>\n",
              "      <td>0.006619</td>\n",
              "      <td>5.0</td>\n",
              "      <td>215644.0</td>\n",
              "      <td>25000.0</td>\n",
              "      <td>50000000.0</td>\n",
              "      <td>0.0001</td>\n",
              "      <td>0</td>\n",
              "      <td>0</td>\n",
              "      <td>0</td>\n",
              "      <td>0</td>\n",
              "      <td>...</td>\n",
              "      <td>0</td>\n",
              "      <td>1</td>\n",
              "      <td>0</td>\n",
              "      <td>0</td>\n",
              "      <td>0</td>\n",
              "      <td>0</td>\n",
              "      <td>0</td>\n",
              "      <td>1</td>\n",
              "      <td>1.078220e+13</td>\n",
              "      <td>50000000.0</td>\n",
              "    </tr>\n",
              "    <tr>\n",
              "      <th>4</th>\n",
              "      <td>0.006619</td>\n",
              "      <td>4.0</td>\n",
              "      <td>967.0</td>\n",
              "      <td>2.8</td>\n",
              "      <td>100000.0</td>\n",
              "      <td>0.0001</td>\n",
              "      <td>0</td>\n",
              "      <td>0</td>\n",
              "      <td>0</td>\n",
              "      <td>0</td>\n",
              "      <td>...</td>\n",
              "      <td>0</td>\n",
              "      <td>1</td>\n",
              "      <td>0</td>\n",
              "      <td>0</td>\n",
              "      <td>1</td>\n",
              "      <td>0</td>\n",
              "      <td>0</td>\n",
              "      <td>0</td>\n",
              "      <td>9.670000e+07</td>\n",
              "      <td>100000.0</td>\n",
              "    </tr>\n",
              "  </tbody>\n",
              "</table>\n",
              "<p>5 rows × 68 columns</p>\n",
              "</div>\n",
              "      <button class=\"colab-df-convert\" onclick=\"convertToInteractive('df-22bd12c7-d4e6-4a11-8965-444938a1ab1a')\"\n",
              "              title=\"Convert this dataframe to an interactive table.\"\n",
              "              style=\"display:none;\">\n",
              "\n",
              "  <svg xmlns=\"http://www.w3.org/2000/svg\" height=\"24px\"viewBox=\"0 0 24 24\"\n",
              "       width=\"24px\">\n",
              "    <path d=\"M0 0h24v24H0V0z\" fill=\"none\"/>\n",
              "    <path d=\"M18.56 5.44l.94 2.06.94-2.06 2.06-.94-2.06-.94-.94-2.06-.94 2.06-2.06.94zm-11 1L8.5 8.5l.94-2.06 2.06-.94-2.06-.94L8.5 2.5l-.94 2.06-2.06.94zm10 10l.94 2.06.94-2.06 2.06-.94-2.06-.94-.94-2.06-.94 2.06-2.06.94z\"/><path d=\"M17.41 7.96l-1.37-1.37c-.4-.4-.92-.59-1.43-.59-.52 0-1.04.2-1.43.59L10.3 9.45l-7.72 7.72c-.78.78-.78 2.05 0 2.83L4 21.41c.39.39.9.59 1.41.59.51 0 1.02-.2 1.41-.59l7.78-7.78 2.81-2.81c.8-.78.8-2.07 0-2.86zM5.41 20L4 18.59l7.72-7.72 1.47 1.35L5.41 20z\"/>\n",
              "  </svg>\n",
              "      </button>\n",
              "\n",
              "\n",
              "\n",
              "    <div id=\"df-bf40f68d-7e04-495a-921b-4b311961c4d6\">\n",
              "      <button class=\"colab-df-quickchart\" onclick=\"quickchart('df-bf40f68d-7e04-495a-921b-4b311961c4d6')\"\n",
              "              title=\"Suggest charts.\"\n",
              "              style=\"display:none;\">\n",
              "\n",
              "<svg xmlns=\"http://www.w3.org/2000/svg\" height=\"24px\"viewBox=\"0 0 24 24\"\n",
              "     width=\"24px\">\n",
              "    <g>\n",
              "        <path d=\"M19 3H5c-1.1 0-2 .9-2 2v14c0 1.1.9 2 2 2h14c1.1 0 2-.9 2-2V5c0-1.1-.9-2-2-2zM9 17H7v-7h2v7zm4 0h-2V7h2v10zm4 0h-2v-4h2v4z\"/>\n",
              "    </g>\n",
              "</svg>\n",
              "      </button>\n",
              "    </div>\n",
              "\n",
              "<style>\n",
              "  .colab-df-quickchart {\n",
              "    background-color: #E8F0FE;\n",
              "    border: none;\n",
              "    border-radius: 50%;\n",
              "    cursor: pointer;\n",
              "    display: none;\n",
              "    fill: #1967D2;\n",
              "    height: 32px;\n",
              "    padding: 0 0 0 0;\n",
              "    width: 32px;\n",
              "  }\n",
              "\n",
              "  .colab-df-quickchart:hover {\n",
              "    background-color: #E2EBFA;\n",
              "    box-shadow: 0px 1px 2px rgba(60, 64, 67, 0.3), 0px 1px 3px 1px rgba(60, 64, 67, 0.15);\n",
              "    fill: #174EA6;\n",
              "  }\n",
              "\n",
              "  [theme=dark] .colab-df-quickchart {\n",
              "    background-color: #3B4455;\n",
              "    fill: #D2E3FC;\n",
              "  }\n",
              "\n",
              "  [theme=dark] .colab-df-quickchart:hover {\n",
              "    background-color: #434B5C;\n",
              "    box-shadow: 0px 1px 3px 1px rgba(0, 0, 0, 0.15);\n",
              "    filter: drop-shadow(0px 1px 2px rgba(0, 0, 0, 0.3));\n",
              "    fill: #FFFFFF;\n",
              "  }\n",
              "</style>\n",
              "\n",
              "    <script>\n",
              "      async function quickchart(key) {\n",
              "        const containerElement = document.querySelector('#' + key);\n",
              "        const charts = await google.colab.kernel.invokeFunction(\n",
              "            'suggestCharts', [key], {});\n",
              "      }\n",
              "    </script>\n",
              "\n",
              "      <script>\n",
              "\n",
              "function displayQuickchartButton(domScope) {\n",
              "  let quickchartButtonEl =\n",
              "    domScope.querySelector('#df-bf40f68d-7e04-495a-921b-4b311961c4d6 button.colab-df-quickchart');\n",
              "  quickchartButtonEl.style.display =\n",
              "    google.colab.kernel.accessAllowed ? 'block' : 'none';\n",
              "}\n",
              "\n",
              "        displayQuickchartButton(document);\n",
              "      </script>\n",
              "      <style>\n",
              "    .colab-df-container {\n",
              "      display:flex;\n",
              "      flex-wrap:wrap;\n",
              "      gap: 12px;\n",
              "    }\n",
              "\n",
              "    .colab-df-convert {\n",
              "      background-color: #E8F0FE;\n",
              "      border: none;\n",
              "      border-radius: 50%;\n",
              "      cursor: pointer;\n",
              "      display: none;\n",
              "      fill: #1967D2;\n",
              "      height: 32px;\n",
              "      padding: 0 0 0 0;\n",
              "      width: 32px;\n",
              "    }\n",
              "\n",
              "    .colab-df-convert:hover {\n",
              "      background-color: #E2EBFA;\n",
              "      box-shadow: 0px 1px 2px rgba(60, 64, 67, 0.3), 0px 1px 3px 1px rgba(60, 64, 67, 0.15);\n",
              "      fill: #174EA6;\n",
              "    }\n",
              "\n",
              "    [theme=dark] .colab-df-convert {\n",
              "      background-color: #3B4455;\n",
              "      fill: #D2E3FC;\n",
              "    }\n",
              "\n",
              "    [theme=dark] .colab-df-convert:hover {\n",
              "      background-color: #434B5C;\n",
              "      box-shadow: 0px 1px 3px 1px rgba(0, 0, 0, 0.15);\n",
              "      filter: drop-shadow(0px 1px 2px rgba(0, 0, 0, 0.3));\n",
              "      fill: #FFFFFF;\n",
              "    }\n",
              "  </style>\n",
              "\n",
              "      <script>\n",
              "        const buttonEl =\n",
              "          document.querySelector('#df-22bd12c7-d4e6-4a11-8965-444938a1ab1a button.colab-df-convert');\n",
              "        buttonEl.style.display =\n",
              "          google.colab.kernel.accessAllowed ? 'block' : 'none';\n",
              "\n",
              "        async function convertToInteractive(key) {\n",
              "          const element = document.querySelector('#df-22bd12c7-d4e6-4a11-8965-444938a1ab1a');\n",
              "          const dataTable =\n",
              "            await google.colab.kernel.invokeFunction('convertToInteractive',\n",
              "                                                     [key], {});\n",
              "          if (!dataTable) return;\n",
              "\n",
              "          const docLinkHtml = 'Like what you see? Visit the ' +\n",
              "            '<a target=\"_blank\" href=https://colab.research.google.com/notebooks/data_table.ipynb>data table notebook</a>'\n",
              "            + ' to learn more about interactive tables.';\n",
              "          element.innerHTML = '';\n",
              "          dataTable['output_type'] = 'display_data';\n",
              "          await google.colab.output.renderOutput(dataTable, element);\n",
              "          const docLink = document.createElement('div');\n",
              "          docLink.innerHTML = docLinkHtml;\n",
              "          element.appendChild(docLink);\n",
              "        }\n",
              "      </script>\n",
              "    </div>\n",
              "  </div>\n"
            ]
          },
          "metadata": {},
          "execution_count": 414
        }
      ]
    },
    {
      "cell_type": "markdown",
      "source": [
        "# Pasamos la columna Rating a 0, 1 y 2"
      ],
      "metadata": {
        "id": "JcEsi2jgWz2h"
      }
    },
    {
      "cell_type": "code",
      "source": [
        "rating_mapping = {4.0: 1, 5.0: 2, 3.0: 0}\n",
        "\n",
        "# Aplicar el mapeo a la columna 'Rating'\n",
        "play_store['Rating'] = play_store['Rating'].map(rating_mapping)\n",
        "\n",
        "play_store['Rating'].value_counts()\n"
      ],
      "metadata": {
        "id": "jT0sT9Icc955",
        "colab": {
          "base_uri": "https://localhost:8080/"
        },
        "outputId": "1b7b5528-9473-4b1e-b7c4-f0127cf58c16"
      },
      "execution_count": 415,
      "outputs": [
        {
          "output_type": "execute_result",
          "data": {
            "text/plain": [
              "1    4933\n",
              "2    4064\n",
              "0     370\n",
              "Name: Rating, dtype: int64"
            ]
          },
          "metadata": {},
          "execution_count": 415
        }
      ]
    },
    {
      "cell_type": "markdown",
      "source": [
        "# Dividimos en Train y Test"
      ],
      "metadata": {
        "id": "YTHxQ5GhQDi-"
      }
    },
    {
      "cell_type": "code",
      "source": [
        "from sklearn.model_selection import train_test_split\n",
        "\n",
        "X_train, X_test = train_test_split(play_store, test_size=0.30) #cogemos el 20 por ciento para testear\n",
        "\n",
        "\n",
        "y_train = X_train[\"Rating\"].copy()\n",
        "X_train = X_train.drop(\"Rating\", axis=1)"
      ],
      "metadata": {
        "id": "dPpvcOr4QFkX"
      },
      "execution_count": 416,
      "outputs": []
    },
    {
      "cell_type": "markdown",
      "source": [
        "# Entrenando y evaluando"
      ],
      "metadata": {
        "id": "3Ore8j3hHLfV"
      }
    },
    {
      "cell_type": "markdown",
      "source": [
        "#### Importamos las medidas de evaluación y el crosss val predict"
      ],
      "metadata": {
        "id": "oXX7Pgpy2PW6"
      }
    },
    {
      "cell_type": "code",
      "source": [
        "from sklearn.metrics import precision_score, recall_score;\n",
        "from sklearn.metrics import roc_auc_score;\n",
        "from sklearn.model_selection import cross_val_predict;\n",
        "from sklearn.metrics import f1_score;"
      ],
      "metadata": {
        "id": "-gvoua7ijIFr"
      },
      "execution_count": 417,
      "outputs": []
    },
    {
      "cell_type": "markdown",
      "source": [
        "#### Implementamos los algoritmos más usados en clasificación y visualizamos sus medidas de rendimiento\n",
        "\n",
        "* Cross Val Predict lo usaremos para generar predicciones utilizando validación cruzada, que nos proporciona una evaluación más precisa del rendimiento del modelo y reduce el riesgo de sobreajuste\n",
        "\n",
        "* La precisión mide la capacidad del modelo para no etiquetar como positivo una muestra que es negativa. Precisión = VP / (VP + FP)\n",
        "\n",
        "* La sensibilidad mide la proporción de verdaderos positivos sobre el total de muestras positivas. sensibilidad = VP / (VP +FN)\n",
        "\n",
        "* F1 score"
      ],
      "metadata": {
        "id": "e9uSnyC1mWfg"
      }
    },
    {
      "cell_type": "code",
      "source": [
        "from sklearn.svm import SVC\n",
        "\n",
        "svc_clf = SVC(gamma=\"auto\")\n",
        "svc_clf.fit(X_train, y_train)\n",
        "\n",
        "#Medidas\n",
        "y_train_pred_svc = cross_val_predict(svc_clf, X_train, y_train, cv=5)\n",
        "precision = precision_score(y_train, y_train_pred_svc, average=None)\n",
        "recall = recall_score(y_train, y_train_pred_svc, average=None)\n",
        "print(\"Precisión:\",\"\\t\", np.round(precision,2), np.mean(precision));\n",
        "print(\"Recall:\",\"\\t\",    np.round(recall,   2), np.mean(recall));"
      ],
      "metadata": {
        "id": "2cmAl0JPZE2q",
        "colab": {
          "base_uri": "https://localhost:8080/"
        },
        "outputId": "66a11fd3-5d68-47ea-c8e9-02685b7cd4b1"
      },
      "execution_count": 418,
      "outputs": [
        {
          "output_type": "stream",
          "name": "stdout",
          "text": [
            "Precisión: \t [0.47 0.55 0.7 ] 0.5745772220828617\n",
            "Recall: \t [0.04 0.96 0.12] 0.3730930828441397\n"
          ]
        }
      ]
    },
    {
      "cell_type": "markdown",
      "source": [
        "#### No nos ha dado buenos resultados ya que unas predicciones del 50% es como tirar una moneda al aire"
      ],
      "metadata": {
        "id": "Y1YtQ9R4hkCU"
      }
    },
    {
      "cell_type": "code",
      "source": [
        "from sklearn.linear_model import SGDClassifier\n",
        "\n",
        "sgd_clf = SGDClassifier(random_state=42)\n",
        "sgd_clf.fit(X_train, y_train)\n",
        "\n",
        "#Medidas\n",
        "y_train_pred_sgd = cross_val_predict(sgd_clf, X_train, y_train, cv=5)\n",
        "precision = precision_score(y_train, y_train_pred_sgd, average=None)\n",
        "recall = recall_score(y_train, y_train_pred_sgd, average=None)\n",
        "print(\"Precisión:\",\"\\t\", np.round(precision,2), np.mean(precision));\n",
        "print(\"Recall:\",\"\\t\",    np.round(recall,   2), np.mean(recall));"
      ],
      "metadata": {
        "id": "u6Gnvr4KyefQ",
        "colab": {
          "base_uri": "https://localhost:8080/"
        },
        "outputId": "489bf76f-93e1-4feb-fb16-c1184837d5d9"
      },
      "execution_count": 419,
      "outputs": [
        {
          "output_type": "stream",
          "name": "stderr",
          "text": [
            "/usr/local/lib/python3.10/dist-packages/sklearn/linear_model/_stochastic_gradient.py:702: ConvergenceWarning: Maximum number of iteration reached before convergence. Consider increasing max_iter to improve the fit.\n",
            "  warnings.warn(\n"
          ]
        },
        {
          "output_type": "stream",
          "name": "stdout",
          "text": [
            "Precisión: \t [0.04 0.53 0.44] 0.33342663697491504\n",
            "Recall: \t [0.2 0.6 0.2] 0.3341043352596626\n"
          ]
        }
      ]
    },
    {
      "cell_type": "markdown",
      "source": [
        "#### Lo mismo que el anterior"
      ],
      "metadata": {
        "id": "48koAglHh1LZ"
      }
    },
    {
      "cell_type": "code",
      "source": [
        "from sklearn.ensemble import RandomForestClassifier;\n",
        "\n",
        "# crea varios arboles de descion y escoge lo más frecuente o lo que mas se repite\n",
        "forest_clf = RandomForestClassifier(n_estimators=100, random_state=42) # n_estimators es la cantidad de arboles que vamos a crear\n",
        "forest_clf.fit(X_train, y_train)\n",
        "\n",
        "#Medidas\n",
        "y_train_pred_forest = cross_val_predict(forest_clf, X_train, y_train, cv=5)\n",
        "precision = precision_score(y_train, y_train_pred_forest, average=None)\n",
        "recall = recall_score(y_train, y_train_pred_forest, average=None)\n",
        "print(\"Precisión:\",\"\\t\", np.round(precision,2), np.mean(precision));\n",
        "print(\"Recall:\",\"\\t\",    np.round(recall,   2), np.mean(recall));"
      ],
      "metadata": {
        "id": "ixb5I9Mth150",
        "colab": {
          "base_uri": "https://localhost:8080/"
        },
        "outputId": "941f4636-100c-41f3-f259-513773d5c016"
      },
      "execution_count": 420,
      "outputs": [
        {
          "output_type": "stream",
          "name": "stdout",
          "text": [
            "Precisión: \t [0.19 0.69 0.68] 0.5159837004819652\n",
            "Recall: \t [0.07 0.76 0.63] 0.48455404118053913\n"
          ]
        }
      ]
    },
    {
      "cell_type": "markdown",
      "source": [
        "#### Tiene buena pinta ya que las dos ultimas clases predicen entre un 70% y con buena sensibilidad lo usaremos en el testeo"
      ],
      "metadata": {
        "id": "Grvbf_b0h-2D"
      }
    },
    {
      "cell_type": "code",
      "source": [
        "from xgboost import XGBClassifier\n",
        "\n",
        "\n",
        "xgb_clf = XGBClassifier(n_estimators=200, random_state=42,learning_rate=0.01)\n",
        "xgb_clf.fit(X_train, y_train)\n",
        "\n",
        "# Realiza predicciones en el conjunto de entrenamiento utilizando validación cruzada\n",
        "y_train_pred_xgb = cross_val_predict(xgb_clf, X_train, y_train, cv=5)\n",
        "precision = precision_score(y_train, y_train_pred_xgb, average=None)\n",
        "recall = recall_score(y_train, y_train_pred_xgb, average=None)\n",
        "print(\"Precisión:\\t\", np.round(precision, 2), np.mean(precision))\n",
        "print(\"Recall:\\t\\t\", np.round(recall, 2), np.mean(recall))"
      ],
      "metadata": {
        "colab": {
          "base_uri": "https://localhost:8080/"
        },
        "id": "T4Wdhbj2AYMG",
        "outputId": "7b593463-54c8-4af2-825b-3878fbb1545d"
      },
      "execution_count": 425,
      "outputs": [
        {
          "output_type": "stream",
          "name": "stdout",
          "text": [
            "Precisión:\t [0.19 0.64 0.7 ] 0.5077981384224941\n",
            "Recall:\t\t [0.02 0.84 0.49] 0.44704770030600566\n"
          ]
        }
      ]
    },
    {
      "cell_type": "markdown",
      "source": [
        "#### Los resultados son parecidos al anterior"
      ],
      "metadata": {
        "id": "wpjdxLzFFxec"
      }
    },
    {
      "cell_type": "markdown",
      "source": [
        "# Matriz de confusión\n",
        "#### La usaremos para mostar la frecuencia con la que el modelo clasifica las instancias de cada clase en función de la verdadera clase de esas instancias."
      ],
      "metadata": {
        "id": "m3zV4PwEfj7t"
      }
    },
    {
      "cell_type": "code",
      "source": [
        "from sklearn.metrics import confusion_matrix;\n",
        "import matplotlib.pyplot as plt;\n",
        "import seaborn as sns;\n",
        "\n",
        "class_names = [\"3\",\"4\",\"5\"]"
      ],
      "metadata": {
        "id": "RwuJDTzSgFmQ"
      },
      "execution_count": 427,
      "outputs": []
    },
    {
      "cell_type": "markdown",
      "source": [
        "### Matriz de confusión del forest"
      ],
      "metadata": {
        "id": "QUinIjV6FXP7"
      }
    },
    {
      "cell_type": "code",
      "source": [
        "cm = confusion_matrix(y_train, y_train_pred_forest)\n",
        "cm\n",
        "fig, ax = plt.subplots(figsize=(15,10));\n",
        "sns.heatmap(cm, annot=True, cmap=\"Oranges\", fmt=\"g\", ax=ax, xticklabels=class_names, yticklabels=class_names);\n",
        "plt.show();"
      ],
      "metadata": {
        "colab": {
          "base_uri": "https://localhost:8080/",
          "height": 830
        },
        "id": "5YfJ4ZX1FAb7",
        "outputId": "0234f871-34ab-4fba-e014-36459fd5d373"
      },
      "execution_count": 428,
      "outputs": [
        {
          "output_type": "display_data",
          "data": {
            "text/plain": [
              "<Figure size 1500x1000 with 2 Axes>"
            ],
            "image/png": "[encoded data removed]"
          },
          "metadata": {}
        }
      ]
    },
    {
      "cell_type": "markdown",
      "source": [
        "### Matriz de confusión del SVC"
      ],
      "metadata": {
        "id": "gBVz2bJYFarC"
      }
    },
    {
      "cell_type": "code",
      "source": [
        "cm = confusion_matrix(y_train, y_train_pred_svc)\n",
        "cm\n",
        "fig, ax = plt.subplots(figsize=(15,10));\n",
        "sns.heatmap(cm, annot=True, cmap=\"Oranges\", fmt=\"g\", ax=ax, xticklabels=class_names, yticklabels=class_names);\n",
        "plt.show();"
      ],
      "metadata": {
        "colab": {
          "base_uri": "https://localhost:8080/",
          "height": 830
        },
        "id": "ZTrwRZfBFffS",
        "outputId": "cc6434f7-61dd-48f8-8dc6-17bb52ab9899"
      },
      "execution_count": 429,
      "outputs": [
        {
          "output_type": "display_data",
          "data": {
            "text/plain": [
              "<Figure size 1500x1000 with 2 Axes>"
            ],
            "image/png": "[encoded data removed]"
          },
          "metadata": {}
        }
      ]
    },
    {
      "cell_type": "markdown",
      "source": [
        "### Matriz de confusión del XGBoost\n"
      ],
      "metadata": {
        "id": "1uZ3_mf4BHsd"
      }
    },
    {
      "cell_type": "code",
      "source": [
        "cm = confusion_matrix(y_train, y_train_pred_xgb)\n",
        "cm\n",
        "fig, ax = plt.subplots(figsize=(15,10));\n",
        "sns.heatmap(cm, annot=True, cmap=\"Oranges\", fmt=\"g\", ax=ax, xticklabels=class_names, yticklabels=class_names);\n",
        "plt.show();"
      ],
      "metadata": {
        "colab": {
          "base_uri": "https://localhost:8080/",
          "height": 830
        },
        "id": "0XlnqImqBOwn",
        "outputId": "370df005-40c6-41f7-b999-da63c6d167c2"
      },
      "execution_count": 438,
      "outputs": [
        {
          "output_type": "display_data",
          "data": {
            "text/plain": [
              "<Figure size 1500x1000 with 2 Axes>"
            ],
            "image/png": "[encoded data removed]"
          },
          "metadata": {}
        }
      ]
    },
    {
      "cell_type": "markdown",
      "source": [
        "### Vemos que el svc lo unico que hace es predecir que son de la clase 4,5 pero tiene muy mala sensibilidad ya que aunque clasifica muchos como 4,5 y los acierta, tambien da muchos falsos positivos"
      ],
      "metadata": {
        "id": "j_O4VxuNKZH0"
      }
    },
    {
      "cell_type": "markdown",
      "metadata": {
        "id": "dc7c82c9-930a-46cb-80fd-282ca5997062"
      },
      "source": [
        "# Evaluando el modelo con el Test Set"
      ]
    },
    {
      "cell_type": "code",
      "source": [
        "y_test = X_test[\"Rating\"].copy()\n",
        "X_test = X_test.drop(\"Rating\", axis=1)"
      ],
      "metadata": {
        "id": "AI8akNpTMh8v"
      },
      "execution_count": 431,
      "outputs": []
    },
    {
      "cell_type": "markdown",
      "source": [
        "### Resultados del RandomForestClassifier"
      ],
      "metadata": {
        "id": "WEGq1v5sLLmT"
      }
    },
    {
      "cell_type": "code",
      "source": [
        "y_test_pred_forest = forest_clf.predict(X_test)\n",
        "\n",
        "precision = precision_score(y_test, y_test_pred_forest, average=None)\n",
        "recall = recall_score(y_test, y_test_pred_forest, average=None)\n",
        "f1 = f1_score(y_test, y_test_pred_forest, average=None)\n",
        "\n",
        "print(\"Precisión:\",\"\\t\", np.round(precision,2), np.mean(precision));\n",
        "print(\"Recall:\",\"\\t\",    np.round(recall,   2), np.mean(recall));\n",
        "print(\"F1:\",\"\\t\\t\",      np.round(f1,       2), np.mean(f1));"
      ],
      "metadata": {
        "id": "jzPdpt-3IDGN",
        "colab": {
          "base_uri": "https://localhost:8080/"
        },
        "outputId": "64a4072c-b115-4b2d-cafd-e42a8550fb11"
      },
      "execution_count": 432,
      "outputs": [
        {
          "output_type": "stream",
          "name": "stdout",
          "text": [
            "Precisión: \t [0.26 0.69 0.68] 0.5430464902501515\n",
            "Recall: \t [0.1  0.75 0.64] 0.49854277171257166\n",
            "F1: \t\t [0.14 0.72 0.66] 0.5077939413399134\n"
          ]
        }
      ]
    },
    {
      "cell_type": "code",
      "source": [
        "plt.figure(figsize=(12, 6))\n",
        "ax = sns.lineplot(x=class_names, y=precision, linewidth=1.0, color=\"green\", linestyle=\"--\");\n",
        "ax = sns.lineplot(x=class_names, y=recall,    linewidth=1.0, color=\"blue\",  linestyle=\"--\");\n",
        "ax = sns.lineplot(x=class_names, y=f1,        linewidth=5.0, color=\"red\");\n",
        "ax.set_title(\"F1 Score\");\n",
        "ax.set_ylim(0,1.1);\n",
        "plt.show();"
      ],
      "metadata": {
        "colab": {
          "base_uri": "https://localhost:8080/",
          "height": 545
        },
        "id": "7EXZhOfZg38m",
        "outputId": "725f28f2-0087-481b-8587-afb24f8962a3"
      },
      "execution_count": 433,
      "outputs": [
        {
          "output_type": "display_data",
          "data": {
            "text/plain": [
              "<Figure size 1200x600 with 1 Axes>"
            ],
            "image/png": "[encoded data removed]"
          },
          "metadata": {}
        }
      ]
    },
    {
      "cell_type": "code",
      "source": [
        "cm = confusion_matrix(y_test, y_test_pred_forest)\n",
        "cm\n",
        "fig, ax = plt.subplots(figsize=(15,10));\n",
        "sns.heatmap(cm, annot=True, cmap=\"Oranges\", fmt=\"g\", ax=ax, xticklabels=class_names, yticklabels=class_names);\n",
        "plt.show();"
      ],
      "metadata": {
        "colab": {
          "base_uri": "https://localhost:8080/",
          "height": 830
        },
        "id": "SLotj28GGiom",
        "outputId": "3c7e2fee-3c7d-45ae-df43-9ffd6b1052e7"
      },
      "execution_count": 434,
      "outputs": [
        {
          "output_type": "display_data",
          "data": {
            "text/plain": [
              "<Figure size 1500x1000 with 2 Axes>"
            ],
            "image/png": "[encoded data removed]"
          },
          "metadata": {}
        }
      ]
    },
    {
      "cell_type": "markdown",
      "source": [
        "#### Podemos ver que predice muy bien las dos últimas clases y tb con una buena sensibilidad, para la primera clase no serviría este modelo pero para saber si una aplicación esta entre un 3-4 y un 4-5 si serviría"
      ],
      "metadata": {
        "id": "LF25ri6tcyfi"
      }
    },
    {
      "cell_type": "markdown",
      "source": [
        "### Resultados del SVC"
      ],
      "metadata": {
        "id": "XTI6cDbQhH0G"
      }
    },
    {
      "cell_type": "code",
      "source": [
        "y_test_pred = svc_clf.predict(X_test)\n",
        "\n",
        "precision = precision_score(y_test, y_test_pred, average=None)\n",
        "recall = recall_score(y_test, y_test_pred, average=None)\n",
        "f1 = f1_score(y_test, y_test_pred, average=None)\n",
        "\n",
        "print(\"Precisión:\",\"\\t\", np.round(precision,2), np.mean(precision));\n",
        "print(\"Recall:\",\"\\t\",    np.round(recall,   2), np.mean(recall));\n",
        "print(\"F1:\",\"\\t\\t\",      np.round(f1,       2), np.mean(f1));"
      ],
      "metadata": {
        "colab": {
          "base_uri": "https://localhost:8080/"
        },
        "id": "ja3yo6d190aM",
        "outputId": "4ffd083d-9ad0-482b-b107-c443c8f7f743"
      },
      "execution_count": 435,
      "outputs": [
        {
          "output_type": "stream",
          "name": "stdout",
          "text": [
            "Precisión: \t [0.4  0.56 0.74] 0.5646330481058573\n",
            "Recall: \t [0.05 0.97 0.13] 0.38149904815153857\n",
            "F1: \t\t [0.09 0.71 0.22] 0.3366331246979158\n"
          ]
        }
      ]
    },
    {
      "cell_type": "code",
      "source": [
        "plt.figure(figsize=(12, 6))\n",
        "ax = sns.lineplot(x=class_names, y=precision, linewidth=1.0, color=\"green\", linestyle=\"--\");\n",
        "ax = sns.lineplot(x=class_names, y=recall,    linewidth=1.0, color=\"blue\",  linestyle=\"--\");\n",
        "ax = sns.lineplot(x=class_names, y=f1,        linewidth=5.0, color=\"red\");\n",
        "ax.set_title(\"F1 Score\");\n",
        "ax.set_ylim(0,1.1);\n",
        "plt.show();"
      ],
      "metadata": {
        "colab": {
          "base_uri": "https://localhost:8080/",
          "height": 545
        },
        "id": "wAb4iqlWjVOu",
        "outputId": "d7343f39-3e48-46c3-f882-a59a2a5175f2"
      },
      "execution_count": 436,
      "outputs": [
        {
          "output_type": "display_data",
          "data": {
            "text/plain": [
              "<Figure size 1200x600 with 1 Axes>"
            ],
            "image/png": "[encoded data removed]"
          },
          "metadata": {}
        }
      ]
    },
    {
      "cell_type": "code",
      "source": [
        "cm = confusion_matrix(y_test, y_test_pred)\n",
        "cm\n",
        "fig, ax = plt.subplots(figsize=(15,10));\n",
        "sns.heatmap(cm, annot=True, cmap=\"Oranges\", fmt=\"g\", ax=ax, xticklabels=class_names, yticklabels=class_names);\n",
        "plt.show();"
      ],
      "metadata": {
        "colab": {
          "base_uri": "https://localhost:8080/",
          "height": 830
        },
        "id": "IlJuuIXzGrKe",
        "outputId": "575d069c-9d41-48e3-9c90-23b291f7b098"
      },
      "execution_count": 437,
      "outputs": [
        {
          "output_type": "display_data",
          "data": {
            "text/plain": [
              "<Figure size 1500x1000 with 2 Axes>"
            ],
            "image/png": "[encoded data removed]"
          },
          "metadata": {}
        }
      ]
    },
    {
      "cell_type": "markdown",
      "source": [
        "#### No sirve el modelo ya que solo predice que es de la clase 4"
      ],
      "metadata": {
        "id": "GcZI35VlGehR"
      }
    },
    {
      "cell_type": "markdown",
      "source": [
        "### Resultados del XGBOOST"
      ],
      "metadata": {
        "id": "5C2vE9PvQOyX"
      }
    },
    {
      "cell_type": "code",
      "source": [
        "y_test_pred = xgb_clf.predict(X_test)\n",
        "\n",
        "precision = precision_score(y_test, y_test_pred, average=None)\n",
        "recall = recall_score(y_test, y_test_pred, average=None)\n",
        "f1 = f1_score(y_test, y_test_pred, average=None)\n",
        "\n",
        "print(\"Precisión:\",\"\\t\", np.round(precision,2), np.mean(precision));\n",
        "print(\"Recall:\",\"\\t\",    np.round(recall,   2), np.mean(recall));\n",
        "print(\"F1:\",\"\\t\\t\",      np.round(f1,       2), np.mean(f1));"
      ],
      "metadata": {
        "colab": {
          "base_uri": "https://localhost:8080/"
        },
        "outputId": "c3af4fab-746c-41b4-df04-88731c394dee",
        "id": "LDUbQqJqQOyY"
      },
      "execution_count": 439,
      "outputs": [
        {
          "output_type": "stream",
          "name": "stdout",
          "text": [
            "Precisión: \t [0.25 0.63 0.68] 0.5204113959283484\n",
            "Recall: \t [0.02 0.83 0.48] 0.4414766665592104\n",
            "F1: \t\t [0.03 0.72 0.56] 0.4360629989053863\n"
          ]
        }
      ]
    },
    {
      "cell_type": "code",
      "source": [
        "plt.figure(figsize=(12, 6))\n",
        "ax = sns.lineplot(x=class_names, y=precision, linewidth=1.0, color=\"green\", linestyle=\"--\");\n",
        "ax = sns.lineplot(x=class_names, y=recall,    linewidth=1.0, color=\"blue\",  linestyle=\"--\");\n",
        "ax = sns.lineplot(x=class_names, y=f1,        linewidth=5.0, color=\"red\");\n",
        "ax.set_title(\"F1 Score\");\n",
        "ax.set_ylim(0,1.1);\n",
        "plt.show();"
      ],
      "metadata": {
        "colab": {
          "base_uri": "https://localhost:8080/",
          "height": 545
        },
        "outputId": "5a3ebb83-d2c3-469d-87d5-bde0b92afc50",
        "id": "SOGciPkLQOyY"
      },
      "execution_count": 440,
      "outputs": [
        {
          "output_type": "display_data",
          "data": {
            "text/plain": [
              "<Figure size 1200x600 with 1 Axes>"
            ],
            "image/png": "[encoded data removed]"
          },
          "metadata": {}
        }
      ]
    },
    {
      "cell_type": "code",
      "source": [
        "cm = confusion_matrix(y_test, y_test_pred)\n",
        "cm\n",
        "fig, ax = plt.subplots(figsize=(15,10));\n",
        "sns.heatmap(cm, annot=True, cmap=\"Oranges\", fmt=\"g\", ax=ax, xticklabels=class_names, yticklabels=class_names);\n",
        "plt.show();"
      ],
      "metadata": {
        "colab": {
          "base_uri": "https://localhost:8080/",
          "height": 830
        },
        "id": "XokwUWhdQXwd",
        "outputId": "36129d1e-c843-43bb-8841-0fe9509cee96"
      },
      "execution_count": 441,
      "outputs": [
        {
          "output_type": "display_data",
          "data": {
            "text/plain": [
              "<Figure size 1500x1000 with 2 Axes>"
            ],
            "image/png": "[encoded data removed]"
          },
          "metadata": {}
        }
      ]
    },
    {
      "cell_type": "markdown",
      "source": [
        "## En conclusión tanto el Randomforest como el Xgboost son los mejores modelos, aunque ninguno de ellos predice la clase 3 y la clase 4 y 5 la predicen pero con varios fallos."
      ],
      "metadata": {
        "id": "k71Wq-fYQskL"
      }
    }
  ]
}